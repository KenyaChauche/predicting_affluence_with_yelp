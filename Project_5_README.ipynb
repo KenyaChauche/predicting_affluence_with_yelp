{
 "cells": [
  {
   "cell_type": "markdown",
   "metadata": {},
   "source": [
    "# Predicting Neighborhood Affluence with Yelp Ratings"
   ]
  },
  {
   "cell_type": "markdown",
   "metadata": {},
   "source": [
    "## Problem Statement"
   ]
  },
  {
   "cell_type": "markdown",
   "metadata": {},
   "source": [
    "Is there any correlation between Yelp Restauraunt price ratings and neighborhood affluence in Seattle.  "
   ]
  },
  {
   "cell_type": "markdown",
   "metadata": {},
   "source": [
    "## Data Gathering"
   ]
  },
  {
   "cell_type": "markdown",
   "metadata": {},
   "source": [
    "We gathered our housing and rental values/rates from the Zillow Home Value Index (ZHVI) and Zillow Rent Index (ZRI), which were publicly available.  We obtained income, median rent, and population statistics by neighborhood from city-data.com, which maintains a database of statistics on US cities through both city and private data sources.  This information required web scraping, as an API was not available.  Finally, we gathered yelp restaurant price ratings from Yelp.com and utilized their API."
   ]
  },
  {
   "cell_type": "markdown",
   "metadata": {},
   "source": [
    "## Methods"
   ]
  },
  {
   "cell_type": "markdown",
   "metadata": {},
   "source": [
    "In order to take as local an approach as possible, we attempted to correlate Yelp restaurant pricing with Seattle neighborhoods, which are significantly smaller areas than zip code or the city as a whole.  We were able to find median home values, median rental rates, and median income for each neighborhood.  After obtaining our Yelp data, we created a dataframe that contained nearly 1,000 random points throughout the city with their latitude and longitude, and then the proportion of restaurants with 1, 2, 3, and 4 price-point ratings by Yelp within both a half mile radius and a mile radius. We then looked for correlations with neighborhood data, or the average of neighborhood data if the radius includes more than one neighborhood."
   ]
  },
  {
   "cell_type": "markdown",
   "metadata": {},
   "source": [
    "## Modeling"
   ]
  },
  {
   "cell_type": "markdown",
   "metadata": {},
   "source": [
    "We ran models with the input being proportion of Yelp restaurant 1, 2, 3, and 4 price-points within a half-mile and a mile radius.  The inputs were run three times, once against neighborhood median home values, once against neighborhood median rental rates, and finally against neighborhood median income.  For median home values and median rental rates, we utililzed Linear Regression, Adaboost, LASSO, KNN, and Decision Tree models.  For the median income of neighborhoods we utilized the same models plus Ridge and Bagged Decision Tree models."
   ]
  },
  {
   "cell_type": "markdown",
   "metadata": {},
   "source": [
    "## Results"
   ]
  },
  {
   "cell_type": "markdown",
   "metadata": {},
   "source": [
    "Not. Good!"
   ]
  },
  {
   "cell_type": "markdown",
   "metadata": {},
   "source": [
    "## Conclusion"
   ]
  },
  {
   "cell_type": "markdown",
   "metadata": {},
   "source": [
    "We were not able to find significant correlations between neighborhood affluence and Yelp restaurant price ratings.  We cannot rule out that there are correlations, however. This is primarily because Yelp's API only allowed us to obtain about 40% of the restauarants in the city, well below what one would need for accurate results in this project.  Additionally, to get more accurate results it would be beneficial to get every property value and its latitude and longitude for the city, so that when utilizing a random point's radius you can get an accurate median home value, whereas we had to utilize the next best thing which was neighborhood median home value."
   ]
  },
  {
   "cell_type": "markdown",
   "metadata": {},
   "source": [
    "### Data Sources:\n",
    "Housing and Rental value/rate data was gathered from Zillow. Datasets on the Zillow Home Value Index (ZHVI) and Zillow Rent Index (ZRI) were publicly available and downloaded directly from: https://www.zillow.com/research/data/\n",
    "\n",
    "Income, median rent, and population statistics by neighborhood were gathered from city-data.com, which maintains a database of statistics on US cities through both city and private data sources. In the absence of an API/downloadable option, data was scraped from: http://www.city-data.com/nbmaps/neigh-Seattle-Washington.html#N11"
   ]
  },
  {
   "cell_type": "markdown",
   "metadata": {},
   "source": [
    "## Data Dictionary"
   ]
  },
  {
   "cell_type": "code",
   "execution_count": null,
   "metadata": {},
   "outputs": [],
   "source": [
    "index, latitude, longitude, neighborhood, .5 mi 1 dollar 1.0mi 1 dollar 0.5mi 2 dollar"
   ]
  }
 ],
 "metadata": {
  "kernelspec": {
   "display_name": "Python 3",
   "language": "python",
   "name": "python3"
  },
  "language_info": {
   "codemirror_mode": {
    "name": "ipython",
    "version": 3
   },
   "file_extension": ".py",
   "mimetype": "text/x-python",
   "name": "python",
   "nbconvert_exporter": "python",
   "pygments_lexer": "ipython3",
   "version": "3.7.4"
  }
 },
 "nbformat": 4,
 "nbformat_minor": 2
}
