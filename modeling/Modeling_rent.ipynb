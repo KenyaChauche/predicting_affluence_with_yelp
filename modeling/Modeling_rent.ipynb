{
 "cells": [
  {
   "cell_type": "markdown",
   "metadata": {},
   "source": [
    "### Modeling: Predicting Median Rent from Yelp Metrics\n",
    "\n",
    "In this section we explore options for regression models that could predict an area's median rent based on the proportion of Yelp businesses of each price tier. Regression models explored as options are Linear Regression, LASSO, Ridge, Decision Tree Regression, and K Nearest Neighbors Regression. Metrics used for assessment are $R^2$ and RMSE. "
   ]
  },
  {
   "cell_type": "markdown",
   "metadata": {},
   "source": [
    "#### Imports "
   ]
  },
  {
   "cell_type": "code",
   "execution_count": 1,
   "metadata": {},
   "outputs": [],
   "source": [
    "import pandas as pd \n",
    "import numpy as np \n",
    "\n",
    "from sklearn.linear_model import LinearRegression, LassoCV, RidgeCV\n",
    "from sklearn.ensemble import AdaBoostRegressor, BaggingRegressor\n",
    "from sklearn.tree import DecisionTreeRegressor\n",
    "from sklearn.neighbors import KNeighborsRegressor\n",
    "\n",
    "from sklearn.metrics import mean_squared_error, r2_score\n",
    "from sklearn.preprocessing import StandardScaler\n",
    "from sklearn.model_selection import train_test_split, GridSearchCV"
   ]
  },
  {
   "cell_type": "code",
   "execution_count": 2,
   "metadata": {},
   "outputs": [],
   "source": [
    "df = pd.read_csv(\"../datasets/generated_gps_price_radius.csv\")\n",
    "\n",
    "df.drop(columns = [\"neighborhood\", \"median income\", \"median home value\", \"index\"], inplace = True)"
   ]
  },
  {
   "cell_type": "code",
   "execution_count": 3,
   "metadata": {},
   "outputs": [],
   "source": [
    "X_one_mi = df[[\"1.0mi 1 dollar\", \"1.0mi 2 dollar\", \"1.0mi 3 dollar\", \"1.0mi 4 dollar\"]]\n",
    "\n",
    "X_half_mi = df[[\"0.5mi 1 dollar\", \"0.5mi 2 dollar\", \"0.5mi 3 dollar\", \"0.5mi 4 dollar\"]]\n",
    "\n",
    "X_all = df[[\"0.5mi 1 dollar\", \"0.5mi 2 dollar\", \"0.5mi 3 dollar\", \"0.5mi 4 dollar\", \n",
    "            \"1.0mi 1 dollar\", \"1.0mi 2 dollar\", \"1.0mi 3 dollar\", \"1.0mi 4 dollar\"]]\n",
    "\n",
    "y = df[\"median rent\"]\n"
   ]
  },
  {
   "cell_type": "code",
   "execution_count": 4,
   "metadata": {},
   "outputs": [],
   "source": [
    "def ultrafit(X_train, X_test, y_train, y_test, model, grid = False, params = None): \n",
    "    \n",
    "    if grid: \n",
    "        print(\"Gridsearching...\")\n",
    "        \n",
    "        griddle = GridSearchCV(model, \n",
    "                               param_grid = params, \n",
    "                               cv = 5)\n",
    "        griddle.fit(X_train, y_train)\n",
    "        print(\"Model has been fit.\")\n",
    "        \n",
    "        mod = griddle.best_estimator_ \n",
    "        \n",
    "        print(f\"Best Parameters: \\n{griddle.best_params_}\")\n",
    "        \n",
    "    else: \n",
    "        mod = model.fit(X_train, y_train)\n",
    "        print(\"Model has been fit.\")\n",
    "\n",
    "    y_train_preds = mod.predict(X_train)\n",
    "    y_test_preds = mod.predict(X_test)\n",
    "\n",
    "    RMSE_train = round(mean_squared_error(y_train, y_train_preds)**0.5, 2)\n",
    "    RMSE_test = round(mean_squared_error(y_test, y_test_preds)**0.5, 2)\n",
    "\n",
    "    r2_train = r2_score(y_train, y_train_preds)\n",
    "    r2_test = r2_score(y_test, y_test_preds)\n",
    "    \n",
    "    print(\"----\")\n",
    "    print(\"Metrics:\")\n",
    "    print(f\"Train RMSE = {RMSE_train} \\nTest RMSE = {RMSE_test}\")\n",
    "    print(\"----\")\n",
    "    print(f\"Train R2 score = {r2_train} \\nTest R2 score = {r2_test}\")\n",
    "    \n",
    "    return mod, RMSE_train, RMSE_test, r2_train, r2_test\n",
    "    "
   ]
  },
  {
   "cell_type": "markdown",
   "metadata": {},
   "source": [
    "#### Train/Test Split "
   ]
  },
  {
   "cell_type": "code",
   "execution_count": 5,
   "metadata": {},
   "outputs": [],
   "source": [
    "X_one_train, X_one_test, y_one_train, y_one_test = train_test_split(X_one_mi, y, \n",
    "                                                                    test_size = 0.3, \n",
    "                                                                    random_state = 42)\n",
    "\n",
    "X_half_train, X_half_test, y_half_train, y_half_test = train_test_split(X_half_mi, y, \n",
    "                                                                        test_size = 0.3, \n",
    "                                                                        random_state = 42)\n",
    "\n",
    "X_all_train, X_all_test, y_all_train, y_all_test = train_test_split(X_all, y, \n",
    "                                                                    test_size = 0.3, \n",
    "                                                                    random_state = 42)\n",
    "\n",
    "X_trains = [X_one_train, X_half_train, X_all_train]\n",
    "X_tests = [X_one_test, X_half_test, X_all_test]\n",
    "\n",
    "y_trains = [y_one_train, y_half_train, y_all_train]\n",
    "y_tests = [y_one_test, y_half_test, y_all_test]\n",
    "\n",
    "names = [\"One Mile Radius (exclusive)\", \"Half Mile Radius\", \"One Mile Radius (inclusive)\"]"
   ]
  },
  {
   "cell_type": "code",
   "execution_count": 6,
   "metadata": {},
   "outputs": [],
   "source": [
    "rmse_train = []\n",
    "rmse_test = []\n",
    "r2_train = []\n",
    "r2_test = []"
   ]
  },
  {
   "cell_type": "markdown",
   "metadata": {},
   "source": [
    "#### Model: Linear Regression"
   ]
  },
  {
   "cell_type": "code",
   "execution_count": 7,
   "metadata": {},
   "outputs": [
    {
     "name": "stdout",
     "output_type": "stream",
     "text": [
      "Model has been fit.\n",
      "----\n",
      "Metrics:\n",
      "Train RMSE = 221.7 \n",
      "Test RMSE = 220.03\n",
      "----\n",
      "Train R2 score = 0.12547868466311107 \n",
      "Test R2 score = 0.0909107925942293\n"
     ]
    }
   ],
   "source": [
    "lr_one, rmse_tr, rmse_te, r2_tr, r2_te = ultrafit(X_trains[0], X_tests[0], y_trains[0], \n",
    "                                                  y_tests[0], LinearRegression())\n",
    "\n",
    "rmse_train.append(rmse_tr)\n",
    "rmse_test.append(rmse_te)\n",
    "r2_train.append(r2_tr)\n",
    "r2_test.append(r2_te)"
   ]
  },
  {
   "cell_type": "code",
   "execution_count": 8,
   "metadata": {},
   "outputs": [
    {
     "name": "stdout",
     "output_type": "stream",
     "text": [
      "Model has been fit.\n",
      "----\n",
      "Metrics:\n",
      "Train RMSE = 234.61 \n",
      "Test RMSE = 229.2\n",
      "----\n",
      "Train R2 score = 0.020670344391434448 \n",
      "Test R2 score = 0.013606058830050394\n"
     ]
    }
   ],
   "source": [
    "lr_half, rmse_tr, rmse_te, r2_tr, r2_te = ultrafit(X_trains[1], X_tests[1], y_trains[1], y_tests[1], \n",
    "                                                   LinearRegression())\n",
    "\n",
    "rmse_train.append(rmse_tr)\n",
    "rmse_test.append(rmse_te)\n",
    "r2_train.append(r2_tr)\n",
    "r2_test.append(r2_te)"
   ]
  },
  {
   "cell_type": "code",
   "execution_count": 9,
   "metadata": {},
   "outputs": [
    {
     "name": "stdout",
     "output_type": "stream",
     "text": [
      "Model has been fit.\n",
      "----\n",
      "Metrics:\n",
      "Train RMSE = 220.27 \n",
      "Test RMSE = 219.92\n",
      "----\n",
      "Train R2 score = 0.1366994875364993 \n",
      "Test R2 score = 0.09181308023560053\n"
     ]
    }
   ],
   "source": [
    "lr_all, rmse_tr, rmse_te, r2_tr, r2_te = ultrafit(X_trains[2], X_tests[2], y_trains[2], y_tests[2], \n",
    "                                                  LinearRegression())\n",
    "\n",
    "rmse_train.append(rmse_tr)\n",
    "rmse_test.append(rmse_te)\n",
    "r2_train.append(r2_tr)\n",
    "r2_test.append(r2_te)"
   ]
  },
  {
   "cell_type": "markdown",
   "metadata": {},
   "source": [
    "#### Model: LASSO "
   ]
  },
  {
   "cell_type": "code",
   "execution_count": 10,
   "metadata": {},
   "outputs": [
    {
     "name": "stdout",
     "output_type": "stream",
     "text": [
      "Model has been fit.\n",
      "----\n",
      "Metrics:\n",
      "Train RMSE = 221.7 \n",
      "Test RMSE = 220.03\n",
      "----\n",
      "Train R2 score = 0.12547482525097142 \n",
      "Test R2 score = 0.09097211832084506\n"
     ]
    }
   ],
   "source": [
    "lasso_one, rmse_tr, rmse_te, r2_tr, r2_te = ultrafit(X_trains[0], X_tests[0], y_trains[0], y_tests[0], \n",
    "                                                     LassoCV(cv = 5))\n",
    "\n",
    "rmse_train.append(rmse_tr)\n",
    "rmse_test.append(rmse_te)\n",
    "r2_train.append(r2_tr)\n",
    "r2_test.append(r2_te)"
   ]
  },
  {
   "cell_type": "code",
   "execution_count": 11,
   "metadata": {},
   "outputs": [
    {
     "name": "stdout",
     "output_type": "stream",
     "text": [
      "Model has been fit.\n",
      "----\n",
      "Metrics:\n",
      "Train RMSE = 234.74 \n",
      "Test RMSE = 229.28\n",
      "----\n",
      "Train R2 score = 0.019538226314473883 \n",
      "Test R2 score = 0.012913520046618387\n"
     ]
    }
   ],
   "source": [
    "lasso_half, rmse_tr, rmse_te, r2_tr, r2_te = ultrafit(X_trains[1], X_tests[1], y_trains[1], y_tests[1], \n",
    "                                                      LassoCV(cv = 5))\n",
    "\n",
    "rmse_train.append(rmse_tr)\n",
    "rmse_test.append(rmse_te)\n",
    "r2_train.append(r2_tr)\n",
    "r2_test.append(r2_te)"
   ]
  },
  {
   "cell_type": "code",
   "execution_count": 12,
   "metadata": {},
   "outputs": [
    {
     "name": "stdout",
     "output_type": "stream",
     "text": [
      "Model has been fit.\n",
      "----\n",
      "Metrics:\n",
      "Train RMSE = 220.27 \n",
      "Test RMSE = 219.9\n",
      "----\n",
      "Train R2 score = 0.13669130245664152 \n",
      "Test R2 score = 0.09202069068388985\n"
     ]
    }
   ],
   "source": [
    "lasso_all, rmse_tr, rmse_te, r2_tr, r2_te = ultrafit(X_trains[2], X_tests[2], y_trains[2], y_tests[2], \n",
    "                                                     LassoCV(cv = 5))\n",
    "\n",
    "rmse_train.append(rmse_tr)\n",
    "rmse_test.append(rmse_te)\n",
    "r2_train.append(r2_tr)\n",
    "r2_test.append(r2_te)"
   ]
  },
  {
   "cell_type": "markdown",
   "metadata": {},
   "source": [
    "#### Model: Ridge"
   ]
  },
  {
   "cell_type": "code",
   "execution_count": 13,
   "metadata": {},
   "outputs": [
    {
     "name": "stdout",
     "output_type": "stream",
     "text": [
      "Model has been fit.\n",
      "----\n",
      "Metrics:\n",
      "Train RMSE = 223.53 \n",
      "Test RMSE = 221.63\n",
      "----\n",
      "Train R2 score = 0.11093510190921807 \n",
      "Test R2 score = 0.07764980318798431\n"
     ]
    }
   ],
   "source": [
    "ridge_one, rmse_tr, rmse_te, r2_tr, r2_te = ultrafit(X_trains[0], X_tests[0], y_trains[0], y_tests[0], \n",
    "                                                     RidgeCV(cv = 5))\n",
    "\n",
    "rmse_train.append(rmse_tr)\n",
    "rmse_test.append(rmse_te)\n",
    "r2_train.append(r2_tr)\n",
    "r2_test.append(r2_te)"
   ]
  },
  {
   "cell_type": "code",
   "execution_count": 14,
   "metadata": {},
   "outputs": [
    {
     "name": "stdout",
     "output_type": "stream",
     "text": [
      "Model has been fit.\n",
      "----\n",
      "Metrics:\n",
      "Train RMSE = 234.67 \n",
      "Test RMSE = 229.29\n",
      "----\n",
      "Train R2 score = 0.020162154991251402 \n",
      "Test R2 score = 0.012778569977973775\n"
     ]
    }
   ],
   "source": [
    "ridge_half, rmse_tr, rmse_te, r2_tr, r2_te = ultrafit(X_trains[1], X_tests[1], y_trains[1], y_tests[1], \n",
    "                                                      RidgeCV(cv = 5))\n",
    "\n",
    "rmse_train.append(rmse_tr)\n",
    "rmse_test.append(rmse_te)\n",
    "r2_train.append(r2_tr)\n",
    "r2_test.append(r2_te)"
   ]
  },
  {
   "cell_type": "code",
   "execution_count": 15,
   "metadata": {},
   "outputs": [
    {
     "name": "stdout",
     "output_type": "stream",
     "text": [
      "Model has been fit.\n",
      "----\n",
      "Metrics:\n",
      "Train RMSE = 222.24 \n",
      "Test RMSE = 221.36\n",
      "----\n",
      "Train R2 score = 0.12118653814510805 \n",
      "Test R2 score = 0.07992246676737869\n"
     ]
    },
    {
     "name": "stderr",
     "output_type": "stream",
     "text": [
      "/opt/anaconda3/lib/python3.7/site-packages/sklearn/model_selection/_search.py:814: DeprecationWarning: The default of the `iid` parameter will change from True to False in version 0.22 and will be removed in 0.24. This will change numeric results when test-set sizes are unequal.\n",
      "  DeprecationWarning)\n"
     ]
    }
   ],
   "source": [
    "ridge_all, rmse_tr, rmse_te, r2_tr, r2_te = ultrafit(X_trains[2], X_tests[2], y_trains[2], y_tests[2], \n",
    "                                                     RidgeCV(cv = 5))\n",
    "\n",
    "rmse_train.append(rmse_tr)\n",
    "rmse_test.append(rmse_te)\n",
    "r2_train.append(r2_tr)\n",
    "r2_test.append(r2_te)"
   ]
  },
  {
   "cell_type": "markdown",
   "metadata": {},
   "source": [
    "#### Model: Decision Tree Regressor"
   ]
  },
  {
   "cell_type": "code",
   "execution_count": 16,
   "metadata": {},
   "outputs": [
    {
     "name": "stdout",
     "output_type": "stream",
     "text": [
      "Gridsearching...\n",
      "Model has been fit.\n",
      "Best Parameters: \n",
      "{'max_depth': 3}\n",
      "----\n",
      "Metrics:\n",
      "Train RMSE = 201.17 \n",
      "Test RMSE = 208.34\n",
      "----\n",
      "Train R2 score = 0.2798969614151099 \n",
      "Test R2 score = 0.18496965723263947\n"
     ]
    },
    {
     "name": "stderr",
     "output_type": "stream",
     "text": [
      "/opt/anaconda3/lib/python3.7/site-packages/sklearn/model_selection/_search.py:814: DeprecationWarning: The default of the `iid` parameter will change from True to False in version 0.22 and will be removed in 0.24. This will change numeric results when test-set sizes are unequal.\n",
      "  DeprecationWarning)\n"
     ]
    }
   ],
   "source": [
    "dtree_params = {\n",
    "    \"max_depth\": [3, 5, 10, 12, None]\n",
    "}\n",
    "\n",
    "dtree_one, rmse_tr, rmse_te, r2_tr, r2_te = ultrafit(X_trains[0], X_tests[0], y_trains[0], y_tests[0], \n",
    "                                                     DecisionTreeRegressor(), grid = True, params = dtree_params)\n",
    "\n",
    "rmse_train.append(rmse_tr)\n",
    "rmse_test.append(rmse_te)\n",
    "r2_train.append(r2_tr)\n",
    "r2_test.append(r2_te)"
   ]
  },
  {
   "cell_type": "code",
   "execution_count": 17,
   "metadata": {},
   "outputs": [
    {
     "name": "stdout",
     "output_type": "stream",
     "text": [
      "Gridsearching...\n",
      "Model has been fit.\n",
      "Best Parameters: \n",
      "{'max_depth': 3}\n",
      "----\n",
      "Metrics:\n",
      "Train RMSE = 223.54 \n",
      "Test RMSE = 229.01\n",
      "----\n",
      "Train R2 score = 0.11085408589213352 \n",
      "Test R2 score = 0.015217762993154027\n"
     ]
    }
   ],
   "source": [
    "dtree_half, rmse_tr, rmse_te, r2_tr, r2_te = ultrafit(X_trains[1], X_tests[1], y_trains[1], y_tests[1], \n",
    "                                                      DecisionTreeRegressor(), grid = True, params = dtree_params)\n",
    "\n",
    "rmse_train.append(rmse_tr)\n",
    "rmse_test.append(rmse_te)\n",
    "r2_train.append(r2_tr)\n",
    "r2_test.append(r2_te)"
   ]
  },
  {
   "cell_type": "code",
   "execution_count": 18,
   "metadata": {},
   "outputs": [
    {
     "name": "stdout",
     "output_type": "stream",
     "text": [
      "Gridsearching...\n",
      "Model has been fit.\n",
      "Best Parameters: \n",
      "{'max_depth': 3}\n",
      "----\n",
      "Metrics:\n",
      "Train RMSE = 200.53 \n",
      "Test RMSE = 210.5\n",
      "----\n",
      "Train R2 score = 0.2845255331635723 \n",
      "Test R2 score = 0.16797169547259472\n"
     ]
    },
    {
     "name": "stderr",
     "output_type": "stream",
     "text": [
      "/opt/anaconda3/lib/python3.7/site-packages/sklearn/model_selection/_search.py:814: DeprecationWarning: The default of the `iid` parameter will change from True to False in version 0.22 and will be removed in 0.24. This will change numeric results when test-set sizes are unequal.\n",
      "  DeprecationWarning)\n"
     ]
    }
   ],
   "source": [
    "dtree_all, rmse_tr, rmse_te, r2_tr, r2_te = ultrafit(X_trains[2], X_tests[2], y_trains[2], y_tests[2], \n",
    "                                                     DecisionTreeRegressor(), grid = True, params = dtree_params)\n",
    "\n",
    "rmse_train.append(rmse_tr)\n",
    "rmse_test.append(rmse_te)\n",
    "r2_train.append(r2_tr)\n",
    "r2_test.append(r2_te)"
   ]
  },
  {
   "cell_type": "markdown",
   "metadata": {},
   "source": [
    "#### Model: K Nearest-Neighbor Regressor"
   ]
  },
  {
   "cell_type": "code",
   "execution_count": 19,
   "metadata": {},
   "outputs": [
    {
     "name": "stdout",
     "output_type": "stream",
     "text": [
      "Gridsearching...\n",
      "Model has been fit.\n",
      "Best Parameters: \n",
      "{'n_neighbors': 12, 'weights': 'uniform'}\n",
      "----\n",
      "Metrics:\n",
      "Train RMSE = 195.8 \n",
      "Test RMSE = 199.14\n",
      "----\n",
      "Train R2 score = 0.317838251118267 \n",
      "Test R2 score = 0.255357800917727\n"
     ]
    },
    {
     "name": "stderr",
     "output_type": "stream",
     "text": [
      "/opt/anaconda3/lib/python3.7/site-packages/sklearn/model_selection/_search.py:814: DeprecationWarning: The default of the `iid` parameter will change from True to False in version 0.22 and will be removed in 0.24. This will change numeric results when test-set sizes are unequal.\n",
      "  DeprecationWarning)\n"
     ]
    }
   ],
   "source": [
    "knn_params = {\n",
    "    \"n_neighbors\": [3, 5, 7, 10, 12], \n",
    "    \"weights\": [\"uniform\", \"distance\"]\n",
    "}\n",
    "\n",
    "knn_one, rmse_tr, rmse_te, r2_tr, r2_te = ultrafit(X_trains[0], X_tests[0], y_trains[0], y_tests[0], \n",
    "                                                   KNeighborsRegressor(), grid = True, params = knn_params)\n",
    "\n",
    "rmse_train.append(rmse_tr)\n",
    "rmse_test.append(rmse_te)\n",
    "r2_train.append(r2_tr)\n",
    "r2_test.append(r2_te)"
   ]
  },
  {
   "cell_type": "code",
   "execution_count": 20,
   "metadata": {},
   "outputs": [
    {
     "name": "stdout",
     "output_type": "stream",
     "text": [
      "Gridsearching...\n",
      "Model has been fit.\n",
      "Best Parameters: \n",
      "{'n_neighbors': 12, 'weights': 'uniform'}\n",
      "----\n",
      "Metrics:\n",
      "Train RMSE = 230.43 \n",
      "Test RMSE = 236.08\n",
      "----\n",
      "Train R2 score = 0.055227139737464515 \n",
      "Test R2 score = -0.046505825487675345\n"
     ]
    }
   ],
   "source": [
    "knn_half, rmse_tr, rmse_te, r2_tr, r2_te = ultrafit(X_trains[1], X_tests[1], y_trains[1], y_tests[1], \n",
    "                                                    KNeighborsRegressor(), grid = True, params = knn_params)\n",
    "\n",
    "rmse_train.append(rmse_tr)\n",
    "rmse_test.append(rmse_te)\n",
    "r2_train.append(r2_tr)\n",
    "r2_test.append(r2_te)"
   ]
  },
  {
   "cell_type": "code",
   "execution_count": 21,
   "metadata": {},
   "outputs": [
    {
     "name": "stdout",
     "output_type": "stream",
     "text": [
      "Gridsearching...\n",
      "Model has been fit.\n",
      "Best Parameters: \n",
      "{'n_neighbors': 12, 'weights': 'uniform'}\n",
      "----\n",
      "Metrics:\n",
      "Train RMSE = 200.07 \n",
      "Test RMSE = 216.5\n",
      "----\n",
      "Train R2 score = 0.2877627191240799 \n",
      "Test R2 score = 0.1198926730614932\n"
     ]
    },
    {
     "name": "stderr",
     "output_type": "stream",
     "text": [
      "/opt/anaconda3/lib/python3.7/site-packages/sklearn/model_selection/_search.py:814: DeprecationWarning: The default of the `iid` parameter will change from True to False in version 0.22 and will be removed in 0.24. This will change numeric results when test-set sizes are unequal.\n",
      "  DeprecationWarning)\n"
     ]
    }
   ],
   "source": [
    "knn_all, rmse_tr, rmse_te, r2_tr, r2_te = ultrafit(X_trains[2], X_tests[2], y_trains[2], y_tests[2], KNeighborsRegressor(), grid = True, params = knn_params)\n",
    "\n",
    "rmse_train.append(rmse_tr)\n",
    "rmse_test.append(rmse_te)\n",
    "r2_train.append(r2_tr)\n",
    "r2_test.append(r2_te)"
   ]
  },
  {
   "cell_type": "markdown",
   "metadata": {},
   "source": [
    "#### Model: AdaBoost Regressor"
   ]
  },
  {
   "cell_type": "code",
   "execution_count": 22,
   "metadata": {},
   "outputs": [
    {
     "name": "stdout",
     "output_type": "stream",
     "text": [
      "Gridsearching...\n",
      "Model has been fit.\n",
      "Best Parameters: \n",
      "{'base_estimator': DecisionTreeRegressor(criterion='mse', max_depth=3, max_features=None,\n",
      "                      max_leaf_nodes=None, min_impurity_decrease=0.0,\n",
      "                      min_impurity_split=None, min_samples_leaf=1,\n",
      "                      min_samples_split=2, min_weight_fraction_leaf=0.0,\n",
      "                      presort=False, random_state=None, splitter='best'), 'n_estimators': 70}\n",
      "----\n",
      "Metrics:\n",
      "Train RMSE = 200.66 \n",
      "Test RMSE = 205.97\n",
      "----\n",
      "Train R2 score = 0.2835700411503941 \n",
      "Test R2 score = 0.20344554617282762\n"
     ]
    },
    {
     "name": "stderr",
     "output_type": "stream",
     "text": [
      "/opt/anaconda3/lib/python3.7/site-packages/sklearn/model_selection/_search.py:814: DeprecationWarning: The default of the `iid` parameter will change from True to False in version 0.22 and will be removed in 0.24. This will change numeric results when test-set sizes are unequal.\n",
      "  DeprecationWarning)\n"
     ]
    }
   ],
   "source": [
    "ada_params = {\n",
    "    \"base_estimator\": [DecisionTreeRegressor(max_depth = 3), DecisionTreeRegressor(max_depth = 5), \n",
    "                       DecisionTreeRegressor(max_depth = 7), DecisionTreeRegressor(max_depth = 10), \n",
    "                       DecisionTreeRegressor(max_depth = None)], \n",
    "    \"n_estimators\": [20, 30, 50, 60, 70]\n",
    "}\n",
    "\n",
    "ada_one, rmse_tr, rmse_te, r2_tr, r2_te = ultrafit(X_trains[0], X_tests[0], y_trains[0], y_tests[0], AdaBoostRegressor(), grid = True, params = ada_params)\n",
    "\n",
    "rmse_train.append(rmse_tr)\n",
    "rmse_test.append(rmse_te)\n",
    "r2_train.append(r2_tr)\n",
    "r2_test.append(r2_te)"
   ]
  },
  {
   "cell_type": "code",
   "execution_count": 23,
   "metadata": {},
   "outputs": [
    {
     "name": "stdout",
     "output_type": "stream",
     "text": [
      "Gridsearching...\n",
      "Model has been fit.\n",
      "Best Parameters: \n",
      "{'base_estimator': DecisionTreeRegressor(criterion='mse', max_depth=3, max_features=None,\n",
      "                      max_leaf_nodes=None, min_impurity_decrease=0.0,\n",
      "                      min_impurity_split=None, min_samples_leaf=1,\n",
      "                      min_samples_split=2, min_weight_fraction_leaf=0.0,\n",
      "                      presort=False, random_state=None, splitter='best'), 'n_estimators': 70}\n",
      "----\n",
      "Metrics:\n",
      "Train RMSE = 226.46 \n",
      "Test RMSE = 225.13\n",
      "----\n",
      "Train R2 score = 0.08745778869146226 \n",
      "Test R2 score = 0.04828851502540954\n"
     ]
    },
    {
     "name": "stderr",
     "output_type": "stream",
     "text": [
      "/opt/anaconda3/lib/python3.7/site-packages/sklearn/model_selection/_search.py:814: DeprecationWarning: The default of the `iid` parameter will change from True to False in version 0.22 and will be removed in 0.24. This will change numeric results when test-set sizes are unequal.\n",
      "  DeprecationWarning)\n"
     ]
    }
   ],
   "source": [
    "ada_half, rmse_tr, rmse_te, r2_tr, r2_te = ultrafit(X_trains[1], X_tests[1], y_trains[1], y_tests[1], \n",
    "                                                    AdaBoostRegressor(), grid = True, params = ada_params)\n",
    "\n",
    "rmse_train.append(rmse_tr)\n",
    "rmse_test.append(rmse_te)\n",
    "r2_train.append(r2_tr)\n",
    "r2_test.append(r2_te)"
   ]
  },
  {
   "cell_type": "code",
   "execution_count": 24,
   "metadata": {},
   "outputs": [
    {
     "name": "stdout",
     "output_type": "stream",
     "text": [
      "Gridsearching...\n",
      "Model has been fit.\n",
      "Best Parameters: \n",
      "{'base_estimator': DecisionTreeRegressor(criterion='mse', max_depth=3, max_features=None,\n",
      "                      max_leaf_nodes=None, min_impurity_decrease=0.0,\n",
      "                      min_impurity_split=None, min_samples_leaf=1,\n",
      "                      min_samples_split=2, min_weight_fraction_leaf=0.0,\n",
      "                      presort=False, random_state=None, splitter='best'), 'n_estimators': 20}\n",
      "----\n",
      "Metrics:\n",
      "Train RMSE = 197.49 \n",
      "Test RMSE = 207.73\n",
      "----\n",
      "Train R2 score = 0.3060284023344334 \n",
      "Test R2 score = 0.18974405921184756\n"
     ]
    },
    {
     "name": "stderr",
     "output_type": "stream",
     "text": [
      "/opt/anaconda3/lib/python3.7/site-packages/sklearn/model_selection/_search.py:814: DeprecationWarning: The default of the `iid` parameter will change from True to False in version 0.22 and will be removed in 0.24. This will change numeric results when test-set sizes are unequal.\n",
      "  DeprecationWarning)\n"
     ]
    }
   ],
   "source": [
    "ada_all, rmse_tr, rmse_te, r2_tr, r2_te = ultrafit(X_trains[2], X_tests[2], y_trains[2], y_tests[2], \n",
    "                                                   AdaBoostRegressor(), grid = True, params = ada_params)\n",
    "\n",
    "rmse_train.append(rmse_tr)\n",
    "rmse_test.append(rmse_te)\n",
    "r2_train.append(r2_tr)\n",
    "r2_test.append(r2_te)"
   ]
  },
  {
   "cell_type": "markdown",
   "metadata": {},
   "source": [
    "#### Model: Bagged Decision Tree Regressor"
   ]
  },
  {
   "cell_type": "code",
   "execution_count": 25,
   "metadata": {},
   "outputs": [
    {
     "name": "stdout",
     "output_type": "stream",
     "text": [
      "Gridsearching...\n",
      "Model has been fit.\n",
      "Best Parameters: \n",
      "{'bootstrap_features': False, 'max_features': 0.7, 'n_estimators': 25}\n",
      "----\n",
      "Metrics:\n",
      "Train RMSE = 169.99 \n",
      "Test RMSE = 192.95\n",
      "----\n",
      "Train R2 score = 0.485864059564181 \n",
      "Test R2 score = 0.3009408254411252\n"
     ]
    },
    {
     "name": "stderr",
     "output_type": "stream",
     "text": [
      "/opt/anaconda3/lib/python3.7/site-packages/sklearn/model_selection/_search.py:814: DeprecationWarning: The default of the `iid` parameter will change from True to False in version 0.22 and will be removed in 0.24. This will change numeric results when test-set sizes are unequal.\n",
      "  DeprecationWarning)\n"
     ]
    }
   ],
   "source": [
    "bag_params = {\n",
    "    \"n_estimators\": [5, 10, 15, 20, 25], \n",
    "    \"max_features\": [0.3, 0.5, 0.7, 1.0], \n",
    "    \"bootstrap_features\": [True, False]\n",
    "}\n",
    "\n",
    "bag_one, rmse_tr, rmse_te, r2_tr, r2_te = ultrafit(X_trains[0], X_tests[0], y_trains[0], y_tests[0], \n",
    "                                                   BaggingRegressor(), grid = True, params = bag_params)\n",
    "\n",
    "rmse_train.append(rmse_tr)\n",
    "rmse_test.append(rmse_te)\n",
    "r2_train.append(r2_tr)\n",
    "r2_test.append(r2_te)"
   ]
  },
  {
   "cell_type": "code",
   "execution_count": 26,
   "metadata": {},
   "outputs": [
    {
     "name": "stdout",
     "output_type": "stream",
     "text": [
      "Gridsearching...\n",
      "Model has been fit.\n",
      "Best Parameters: \n",
      "{'bootstrap_features': False, 'max_features': 0.7, 'n_estimators': 25}\n",
      "----\n",
      "Metrics:\n",
      "Train RMSE = 211.26 \n",
      "Test RMSE = 226.55\n",
      "----\n",
      "Train R2 score = 0.20586007975639553 \n",
      "Test R2 score = 0.03630277123777159\n"
     ]
    }
   ],
   "source": [
    "bag_half, rmse_tr, rmse_te, r2_tr, r2_te = ultrafit(X_trains[1], X_tests[1], y_trains[1], y_tests[1], \n",
    "                                                    BaggingRegressor(), grid = True, params = bag_params)\n",
    "\n",
    "rmse_train.append(rmse_tr)\n",
    "rmse_test.append(rmse_te)\n",
    "r2_train.append(r2_tr)\n",
    "r2_test.append(r2_te)"
   ]
  },
  {
   "cell_type": "code",
   "execution_count": 27,
   "metadata": {},
   "outputs": [
    {
     "name": "stdout",
     "output_type": "stream",
     "text": [
      "Gridsearching...\n",
      "Model has been fit.\n",
      "Best Parameters: \n",
      "{'bootstrap_features': True, 'max_features': 1.0, 'n_estimators': 15}\n",
      "----\n",
      "Metrics:\n",
      "Train RMSE = 150.71 \n",
      "Test RMSE = 195.61\n",
      "----\n",
      "Train R2 score = 0.59583645745188 \n",
      "Test R2 score = 0.2815092713296621\n"
     ]
    },
    {
     "name": "stderr",
     "output_type": "stream",
     "text": [
      "/opt/anaconda3/lib/python3.7/site-packages/sklearn/model_selection/_search.py:814: DeprecationWarning: The default of the `iid` parameter will change from True to False in version 0.22 and will be removed in 0.24. This will change numeric results when test-set sizes are unequal.\n",
      "  DeprecationWarning)\n"
     ]
    }
   ],
   "source": [
    "bag_al, rmse_tr, rmse_te, r2_tr, r2_tel = ultrafit(X_trains[2], X_tests[2], y_trains[2], y_tests[2], \n",
    "                                                   BaggingRegressor(), grid = True, params = bag_params)\n",
    "\n",
    "rmse_train.append(rmse_tr)\n",
    "rmse_test.append(rmse_te)\n",
    "r2_train.append(r2_tr)\n",
    "r2_test.append(r2_te)"
   ]
  },
  {
   "cell_type": "markdown",
   "metadata": {},
   "source": [
    "#### Observations"
   ]
  },
  {
   "cell_type": "code",
   "execution_count": 33,
   "metadata": {},
   "outputs": [
    {
     "data": {
      "text/html": [
       "<div>\n",
       "<style scoped>\n",
       "    .dataframe tbody tr th:only-of-type {\n",
       "        vertical-align: middle;\n",
       "    }\n",
       "\n",
       "    .dataframe tbody tr th {\n",
       "        vertical-align: top;\n",
       "    }\n",
       "\n",
       "    .dataframe thead th {\n",
       "        text-align: right;\n",
       "    }\n",
       "</style>\n",
       "<table border=\"1\" class=\"dataframe\">\n",
       "  <thead>\n",
       "    <tr style=\"text-align: right;\">\n",
       "      <th></th>\n",
       "      <th>Model</th>\n",
       "      <th>RMSE Train</th>\n",
       "      <th>RMSE Test</th>\n",
       "      <th>R2 Train</th>\n",
       "      <th>R2 Test</th>\n",
       "      <th>RMSE Difference</th>\n",
       "    </tr>\n",
       "  </thead>\n",
       "  <tbody>\n",
       "    <tr>\n",
       "      <td>20</td>\n",
       "      <td>bag_all</td>\n",
       "      <td>150.71</td>\n",
       "      <td>195.61</td>\n",
       "      <td>0.595836</td>\n",
       "      <td>0.036303</td>\n",
       "      <td>-44.90</td>\n",
       "    </tr>\n",
       "    <tr>\n",
       "      <td>18</td>\n",
       "      <td>bag_one</td>\n",
       "      <td>169.99</td>\n",
       "      <td>192.95</td>\n",
       "      <td>0.485864</td>\n",
       "      <td>0.300941</td>\n",
       "      <td>-22.96</td>\n",
       "    </tr>\n",
       "    <tr>\n",
       "      <td>12</td>\n",
       "      <td>knn_one</td>\n",
       "      <td>195.80</td>\n",
       "      <td>199.14</td>\n",
       "      <td>0.317838</td>\n",
       "      <td>0.255358</td>\n",
       "      <td>-3.34</td>\n",
       "    </tr>\n",
       "    <tr>\n",
       "      <td>17</td>\n",
       "      <td>ada_all</td>\n",
       "      <td>197.49</td>\n",
       "      <td>207.73</td>\n",
       "      <td>0.306028</td>\n",
       "      <td>0.189744</td>\n",
       "      <td>-10.24</td>\n",
       "    </tr>\n",
       "    <tr>\n",
       "      <td>14</td>\n",
       "      <td>knn_all</td>\n",
       "      <td>200.07</td>\n",
       "      <td>216.50</td>\n",
       "      <td>0.287763</td>\n",
       "      <td>0.119893</td>\n",
       "      <td>-16.43</td>\n",
       "    </tr>\n",
       "    <tr>\n",
       "      <td>11</td>\n",
       "      <td>dtree_all</td>\n",
       "      <td>200.53</td>\n",
       "      <td>210.50</td>\n",
       "      <td>0.284526</td>\n",
       "      <td>0.167972</td>\n",
       "      <td>-9.97</td>\n",
       "    </tr>\n",
       "    <tr>\n",
       "      <td>15</td>\n",
       "      <td>ada_one</td>\n",
       "      <td>200.66</td>\n",
       "      <td>205.97</td>\n",
       "      <td>0.283570</td>\n",
       "      <td>0.203446</td>\n",
       "      <td>-5.31</td>\n",
       "    </tr>\n",
       "    <tr>\n",
       "      <td>9</td>\n",
       "      <td>dtree_one</td>\n",
       "      <td>201.17</td>\n",
       "      <td>208.34</td>\n",
       "      <td>0.279897</td>\n",
       "      <td>0.184970</td>\n",
       "      <td>-7.17</td>\n",
       "    </tr>\n",
       "    <tr>\n",
       "      <td>19</td>\n",
       "      <td>bag_half</td>\n",
       "      <td>211.26</td>\n",
       "      <td>226.55</td>\n",
       "      <td>0.205860</td>\n",
       "      <td>0.036303</td>\n",
       "      <td>-15.29</td>\n",
       "    </tr>\n",
       "    <tr>\n",
       "      <td>2</td>\n",
       "      <td>lr_all</td>\n",
       "      <td>220.27</td>\n",
       "      <td>219.92</td>\n",
       "      <td>0.136699</td>\n",
       "      <td>0.091813</td>\n",
       "      <td>0.35</td>\n",
       "    </tr>\n",
       "    <tr>\n",
       "      <td>5</td>\n",
       "      <td>lasso_all</td>\n",
       "      <td>220.27</td>\n",
       "      <td>219.90</td>\n",
       "      <td>0.136691</td>\n",
       "      <td>0.092021</td>\n",
       "      <td>0.37</td>\n",
       "    </tr>\n",
       "    <tr>\n",
       "      <td>3</td>\n",
       "      <td>lasso_one</td>\n",
       "      <td>221.70</td>\n",
       "      <td>220.03</td>\n",
       "      <td>0.125475</td>\n",
       "      <td>0.090972</td>\n",
       "      <td>1.67</td>\n",
       "    </tr>\n",
       "    <tr>\n",
       "      <td>0</td>\n",
       "      <td>lr_one</td>\n",
       "      <td>221.70</td>\n",
       "      <td>220.03</td>\n",
       "      <td>0.125479</td>\n",
       "      <td>0.090911</td>\n",
       "      <td>1.67</td>\n",
       "    </tr>\n",
       "    <tr>\n",
       "      <td>8</td>\n",
       "      <td>ridge_all</td>\n",
       "      <td>222.24</td>\n",
       "      <td>221.36</td>\n",
       "      <td>0.121187</td>\n",
       "      <td>0.079922</td>\n",
       "      <td>0.88</td>\n",
       "    </tr>\n",
       "    <tr>\n",
       "      <td>6</td>\n",
       "      <td>ridge_one</td>\n",
       "      <td>223.53</td>\n",
       "      <td>221.63</td>\n",
       "      <td>0.110935</td>\n",
       "      <td>0.077650</td>\n",
       "      <td>1.90</td>\n",
       "    </tr>\n",
       "    <tr>\n",
       "      <td>10</td>\n",
       "      <td>dtree_half</td>\n",
       "      <td>223.54</td>\n",
       "      <td>229.01</td>\n",
       "      <td>0.110854</td>\n",
       "      <td>0.015218</td>\n",
       "      <td>-5.47</td>\n",
       "    </tr>\n",
       "    <tr>\n",
       "      <td>16</td>\n",
       "      <td>ada_half</td>\n",
       "      <td>226.46</td>\n",
       "      <td>225.13</td>\n",
       "      <td>0.087458</td>\n",
       "      <td>0.048289</td>\n",
       "      <td>1.33</td>\n",
       "    </tr>\n",
       "    <tr>\n",
       "      <td>13</td>\n",
       "      <td>knn_half</td>\n",
       "      <td>230.43</td>\n",
       "      <td>236.08</td>\n",
       "      <td>0.055227</td>\n",
       "      <td>-0.046506</td>\n",
       "      <td>-5.65</td>\n",
       "    </tr>\n",
       "    <tr>\n",
       "      <td>1</td>\n",
       "      <td>lr_half</td>\n",
       "      <td>234.61</td>\n",
       "      <td>229.20</td>\n",
       "      <td>0.020670</td>\n",
       "      <td>0.013606</td>\n",
       "      <td>5.41</td>\n",
       "    </tr>\n",
       "    <tr>\n",
       "      <td>7</td>\n",
       "      <td>ridge_half</td>\n",
       "      <td>234.67</td>\n",
       "      <td>229.29</td>\n",
       "      <td>0.020162</td>\n",
       "      <td>0.012779</td>\n",
       "      <td>5.38</td>\n",
       "    </tr>\n",
       "    <tr>\n",
       "      <td>4</td>\n",
       "      <td>lasso_half</td>\n",
       "      <td>234.74</td>\n",
       "      <td>229.28</td>\n",
       "      <td>0.019538</td>\n",
       "      <td>0.012914</td>\n",
       "      <td>5.46</td>\n",
       "    </tr>\n",
       "  </tbody>\n",
       "</table>\n",
       "</div>"
      ],
      "text/plain": [
       "         Model  RMSE Train  RMSE Test  R2 Train   R2 Test  RMSE Difference\n",
       "20     bag_all      150.71     195.61  0.595836  0.036303           -44.90\n",
       "18     bag_one      169.99     192.95  0.485864  0.300941           -22.96\n",
       "12     knn_one      195.80     199.14  0.317838  0.255358            -3.34\n",
       "17     ada_all      197.49     207.73  0.306028  0.189744           -10.24\n",
       "14     knn_all      200.07     216.50  0.287763  0.119893           -16.43\n",
       "11   dtree_all      200.53     210.50  0.284526  0.167972            -9.97\n",
       "15     ada_one      200.66     205.97  0.283570  0.203446            -5.31\n",
       "9    dtree_one      201.17     208.34  0.279897  0.184970            -7.17\n",
       "19    bag_half      211.26     226.55  0.205860  0.036303           -15.29\n",
       "2       lr_all      220.27     219.92  0.136699  0.091813             0.35\n",
       "5    lasso_all      220.27     219.90  0.136691  0.092021             0.37\n",
       "3    lasso_one      221.70     220.03  0.125475  0.090972             1.67\n",
       "0       lr_one      221.70     220.03  0.125479  0.090911             1.67\n",
       "8    ridge_all      222.24     221.36  0.121187  0.079922             0.88\n",
       "6    ridge_one      223.53     221.63  0.110935  0.077650             1.90\n",
       "10  dtree_half      223.54     229.01  0.110854  0.015218            -5.47\n",
       "16    ada_half      226.46     225.13  0.087458  0.048289             1.33\n",
       "13    knn_half      230.43     236.08  0.055227 -0.046506            -5.65\n",
       "1      lr_half      234.61     229.20  0.020670  0.013606             5.41\n",
       "7   ridge_half      234.67     229.29  0.020162  0.012779             5.38\n",
       "4   lasso_half      234.74     229.28  0.019538  0.012914             5.46"
      ]
     },
     "execution_count": 33,
     "metadata": {},
     "output_type": "execute_result"
    }
   ],
   "source": [
    "metrics = {\n",
    "    \"Model\": [\"lr_one\", \"lr_half\", \"lr_all\", \"lasso_one\", \"lasso_half\", \"lasso_all\", \"ridge_one\", \"ridge_half\", \n",
    "              \"ridge_all\", \"dtree_one\", \"dtree_half\", \"dtree_all\", \"knn_one\", \"knn_half\", \"knn_all\", \"ada_one\", \n",
    "              \"ada_half\", \"ada_all\", \"bag_one\", \"bag_half\", \"bag_all\"], \n",
    "    \"RMSE Train\": rmse_train, \n",
    "    \"RMSE Test\": rmse_test, \n",
    "    \"R2 Train\": r2_train, \n",
    "    \"R2 Test\": r2_test\n",
    "}\n",
    "\n",
    "metrics_df = pd.DataFrame(metrics)\n",
    "\n",
    "metrics_df[\"RMSE Difference\"] = metrics_df[\"RMSE Train\"] - metrics_df[\"RMSE Test\"]\n",
    "\n",
    "metrics_df.sort_values(by = [\"RMSE Train\", \"RMSE Difference\", \"R2 Train\"], ascending = True)"
   ]
  },
  {
   "cell_type": "markdown",
   "metadata": {},
   "source": [
    "Considering the performance metrics displayed above, it appears that the \"best\" model (or least bad) to use for predicting median rent from Yelp data is a **KNearestNeighbors Regressor model**. In this case, the best performing model was the one that only took Yelp data into account when it applied to businesses that were between 0.5 mi - 1.0 mi away from a given location. While other models had lower RMSE's, the difference between the train and test RMSE's were the highest of all models. The KNearestNeighbors Regressor model had the third lowest RMSE with training data, a difference between train RMSE and test RMSE that was less than 5, and also had a $R^2$ score that was considerably better than other models tested. "
   ]
  },
  {
   "cell_type": "code",
   "execution_count": null,
   "metadata": {},
   "outputs": [],
   "source": []
  }
 ],
 "metadata": {
  "kernelspec": {
   "display_name": "Python 3",
   "language": "python",
   "name": "python3"
  },
  "language_info": {
   "codemirror_mode": {
    "name": "ipython",
    "version": 3
   },
   "file_extension": ".py",
   "mimetype": "text/x-python",
   "name": "python",
   "nbconvert_exporter": "python",
   "pygments_lexer": "ipython3",
   "version": "3.7.4"
  }
 },
 "nbformat": 4,
 "nbformat_minor": 2
}
