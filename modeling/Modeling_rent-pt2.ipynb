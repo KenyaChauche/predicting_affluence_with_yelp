{
 "cells": [
  {
   "cell_type": "markdown",
   "metadata": {},
   "source": [
    "### Modeling: Predicting Median Rent from Yelp Metrics\n",
    "\n",
    "In this section we explore options for regression models that could predict an area's median rent based on the proportion of Yelp businesses of each price tier. This section is the same as the other modeling for median rent prediction, though this section is modeling based off a dataset that was developed by sourcing surrounding Yelp businesses by location rather than pulling Yelp businesses from a pre-existing dataset. Only a one mile radius is used due to the overall better performance of one-mile radii in the previous modeling. 4-$ tier restaurants were excluded here due to rarity. Regression models explored as options are Linear Regression, LASSO, Ridge, Decision Tree Regression, and K Nearest Neighbors Regression. Metrics used for assessment are $R^2$ and RMSE. "
   ]
  },
  {
   "cell_type": "markdown",
   "metadata": {},
   "source": [
    "#### Imports "
   ]
  },
  {
   "cell_type": "code",
   "execution_count": 1,
   "metadata": {},
   "outputs": [],
   "source": [
    "import pandas as pd \n",
    "import numpy as np \n",
    "\n",
    "from sklearn.linear_model import LinearRegression, LassoCV, RidgeCV\n",
    "from sklearn.ensemble import AdaBoostRegressor, BaggingRegressor\n",
    "from sklearn.tree import DecisionTreeRegressor\n",
    "from sklearn.neighbors import KNeighborsRegressor\n",
    "\n",
    "from sklearn.metrics import mean_squared_error, r2_score\n",
    "from sklearn.preprocessing import StandardScaler\n",
    "from sklearn.model_selection import train_test_split, GridSearchCV"
   ]
  },
  {
   "cell_type": "code",
   "execution_count": 2,
   "metadata": {},
   "outputs": [],
   "source": [
    "df = pd.read_csv(\"../Richard_392_dem.csv\")\n",
    "\n",
    "df = df.loc[:, [\"1\", \"2\", \"3\", \"1p\", \"2p\", \"3p\", \"MEDIAN_GROSS_RENT\"]]"
   ]
  },
  {
   "cell_type": "code",
   "execution_count": 3,
   "metadata": {},
   "outputs": [
    {
     "data": {
      "text/html": [
       "<div>\n",
       "<style scoped>\n",
       "    .dataframe tbody tr th:only-of-type {\n",
       "        vertical-align: middle;\n",
       "    }\n",
       "\n",
       "    .dataframe tbody tr th {\n",
       "        vertical-align: top;\n",
       "    }\n",
       "\n",
       "    .dataframe thead th {\n",
       "        text-align: right;\n",
       "    }\n",
       "</style>\n",
       "<table border=\"1\" class=\"dataframe\">\n",
       "  <thead>\n",
       "    <tr style=\"text-align: right;\">\n",
       "      <th></th>\n",
       "      <th>1</th>\n",
       "      <th>2</th>\n",
       "      <th>3</th>\n",
       "      <th>1p</th>\n",
       "      <th>2p</th>\n",
       "      <th>3p</th>\n",
       "      <th>MEDIAN_GROSS_RENT</th>\n",
       "    </tr>\n",
       "  </thead>\n",
       "  <tbody>\n",
       "    <tr>\n",
       "      <td>0</td>\n",
       "      <td>30</td>\n",
       "      <td>24</td>\n",
       "      <td>0</td>\n",
       "      <td>0.555556</td>\n",
       "      <td>0.444444</td>\n",
       "      <td>0.000000</td>\n",
       "      <td>988</td>\n",
       "    </tr>\n",
       "    <tr>\n",
       "      <td>1</td>\n",
       "      <td>18</td>\n",
       "      <td>18</td>\n",
       "      <td>0</td>\n",
       "      <td>0.500000</td>\n",
       "      <td>0.500000</td>\n",
       "      <td>0.000000</td>\n",
       "      <td>1490</td>\n",
       "    </tr>\n",
       "    <tr>\n",
       "      <td>2</td>\n",
       "      <td>38</td>\n",
       "      <td>110</td>\n",
       "      <td>4</td>\n",
       "      <td>0.245161</td>\n",
       "      <td>0.709677</td>\n",
       "      <td>0.025806</td>\n",
       "      <td>1576</td>\n",
       "    </tr>\n",
       "    <tr>\n",
       "      <td>3</td>\n",
       "      <td>6</td>\n",
       "      <td>9</td>\n",
       "      <td>0</td>\n",
       "      <td>0.400000</td>\n",
       "      <td>0.600000</td>\n",
       "      <td>0.000000</td>\n",
       "      <td>1596</td>\n",
       "    </tr>\n",
       "    <tr>\n",
       "      <td>4</td>\n",
       "      <td>23</td>\n",
       "      <td>60</td>\n",
       "      <td>1</td>\n",
       "      <td>0.267442</td>\n",
       "      <td>0.697674</td>\n",
       "      <td>0.011628</td>\n",
       "      <td>1576</td>\n",
       "    </tr>\n",
       "  </tbody>\n",
       "</table>\n",
       "</div>"
      ],
      "text/plain": [
       "    1    2  3        1p        2p        3p  MEDIAN_GROSS_RENT\n",
       "0  30   24  0  0.555556  0.444444  0.000000                988\n",
       "1  18   18  0  0.500000  0.500000  0.000000               1490\n",
       "2  38  110  4  0.245161  0.709677  0.025806               1576\n",
       "3   6    9  0  0.400000  0.600000  0.000000               1596\n",
       "4  23   60  1  0.267442  0.697674  0.011628               1576"
      ]
     },
     "execution_count": 3,
     "metadata": {},
     "output_type": "execute_result"
    }
   ],
   "source": [
    "df.head()"
   ]
  },
  {
   "cell_type": "code",
   "execution_count": 4,
   "metadata": {},
   "outputs": [],
   "source": [
    "X = df.drop(columns= [\"MEDIAN_GROSS_RENT\"])\n",
    "\n",
    "y = df[\"MEDIAN_GROSS_RENT\"]\n"
   ]
  },
  {
   "cell_type": "code",
   "execution_count": 5,
   "metadata": {},
   "outputs": [],
   "source": [
    "def ultrafit(X_train, X_test, y_train, y_test, model, grid = False, params = None): \n",
    "    \n",
    "    if grid: \n",
    "        print(\"Gridsearching...\")\n",
    "        \n",
    "        griddle = GridSearchCV(model, \n",
    "                               param_grid = params, \n",
    "                               cv = 5)\n",
    "        griddle.fit(X_train, y_train)\n",
    "        print(\"Model has been fit.\")\n",
    "        \n",
    "        mod = griddle.best_estimator_ \n",
    "        \n",
    "        print(f\"Best Parameters: \\n{griddle.best_params_}\")\n",
    "        \n",
    "    else: \n",
    "        mod = model.fit(X_train, y_train)\n",
    "        print(\"Model has been fit.\")\n",
    "\n",
    "    y_train_preds = mod.predict(X_train)\n",
    "    y_test_preds = mod.predict(X_test)\n",
    "\n",
    "    RMSE_train = round(mean_squared_error(y_train, y_train_preds)**0.5, 2)\n",
    "    RMSE_test = round(mean_squared_error(y_test, y_test_preds)**0.5, 2)\n",
    "\n",
    "    r2_train = r2_score(y_train, y_train_preds)\n",
    "    r2_test = r2_score(y_test, y_test_preds)\n",
    "    \n",
    "    print(\"----\")\n",
    "    print(\"Metrics:\")\n",
    "    print(f\"Train RMSE = {RMSE_train} \\nTest RMSE = {RMSE_test}\")\n",
    "    print(\"----\")\n",
    "    print(f\"Train R2 score = {r2_train} \\nTest R2 score = {r2_test}\")\n",
    "    \n",
    "    return mod, RMSE_train, RMSE_test, r2_train, r2_test\n",
    "    "
   ]
  },
  {
   "cell_type": "markdown",
   "metadata": {},
   "source": [
    "#### Train/Test Split "
   ]
  },
  {
   "cell_type": "code",
   "execution_count": 6,
   "metadata": {},
   "outputs": [],
   "source": [
    "X_train, X_test, y_train, y_test = train_test_split(X, y, test_size = 0.3, random_state = 42)"
   ]
  },
  {
   "cell_type": "code",
   "execution_count": 7,
   "metadata": {},
   "outputs": [],
   "source": [
    "rmse_train = []\n",
    "rmse_test = []\n",
    "r2_train = []\n",
    "r2_test = []"
   ]
  },
  {
   "cell_type": "markdown",
   "metadata": {},
   "source": [
    "#### Model: Linear Regression"
   ]
  },
  {
   "cell_type": "code",
   "execution_count": 8,
   "metadata": {},
   "outputs": [
    {
     "name": "stdout",
     "output_type": "stream",
     "text": [
      "Model has been fit.\n",
      "----\n",
      "Metrics:\n",
      "Train RMSE = 199.79 \n",
      "Test RMSE = 188.17\n",
      "----\n",
      "Train R2 score = 0.2698889480964076 \n",
      "Test R2 score = 0.22712789599113725\n"
     ]
    }
   ],
   "source": [
    "lr_one, rmse_tr, rmse_te, r2_tr, r2_te = ultrafit(X_train, X_test, y_train, \n",
    "                                                  y_test, LinearRegression())\n",
    "\n",
    "rmse_train.append(rmse_tr)\n",
    "rmse_test.append(rmse_te)\n",
    "r2_train.append(r2_tr)\n",
    "r2_test.append(r2_te)"
   ]
  },
  {
   "cell_type": "markdown",
   "metadata": {},
   "source": [
    "#### Model: LASSO "
   ]
  },
  {
   "cell_type": "code",
   "execution_count": 9,
   "metadata": {},
   "outputs": [
    {
     "name": "stdout",
     "output_type": "stream",
     "text": [
      "Model has been fit.\n",
      "----\n",
      "Metrics:\n",
      "Train RMSE = 207.5 \n",
      "Test RMSE = 187.14\n",
      "----\n",
      "Train R2 score = 0.21245330943633733 \n",
      "Test R2 score = 0.23557043828247826\n"
     ]
    }
   ],
   "source": [
    "lasso_one, rmse_tr, rmse_te, r2_tr, r2_te = ultrafit(X_train, X_test, y_train, y_test, \n",
    "                                                     LassoCV(cv = 5))\n",
    "\n",
    "rmse_train.append(rmse_tr)\n",
    "rmse_test.append(rmse_te)\n",
    "r2_train.append(r2_tr)\n",
    "r2_test.append(r2_te)"
   ]
  },
  {
   "cell_type": "markdown",
   "metadata": {},
   "source": [
    "#### Model: Ridge"
   ]
  },
  {
   "cell_type": "code",
   "execution_count": 10,
   "metadata": {},
   "outputs": [
    {
     "name": "stdout",
     "output_type": "stream",
     "text": [
      "Model has been fit.\n",
      "----\n",
      "Metrics:\n",
      "Train RMSE = 201.53 \n",
      "Test RMSE = 185.01\n",
      "----\n",
      "Train R2 score = 0.25712205724575177 \n",
      "Test R2 score = 0.25283268575402273\n"
     ]
    },
    {
     "name": "stderr",
     "output_type": "stream",
     "text": [
      "/opt/anaconda3/lib/python3.7/site-packages/sklearn/model_selection/_search.py:814: DeprecationWarning: The default of the `iid` parameter will change from True to False in version 0.22 and will be removed in 0.24. This will change numeric results when test-set sizes are unequal.\n",
      "  DeprecationWarning)\n"
     ]
    }
   ],
   "source": [
    "ridge_one, rmse_tr, rmse_te, r2_tr, r2_te = ultrafit(X_train, X_test, y_train, y_test, \n",
    "                                                     RidgeCV(cv = 5))\n",
    "\n",
    "rmse_train.append(rmse_tr)\n",
    "rmse_test.append(rmse_te)\n",
    "r2_train.append(r2_tr)\n",
    "r2_test.append(r2_te)"
   ]
  },
  {
   "cell_type": "markdown",
   "metadata": {},
   "source": [
    "#### Model: Decision Tree Regressor"
   ]
  },
  {
   "cell_type": "code",
   "execution_count": 11,
   "metadata": {},
   "outputs": [
    {
     "name": "stdout",
     "output_type": "stream",
     "text": [
      "Gridsearching...\n",
      "Model has been fit.\n",
      "Best Parameters: \n",
      "{'max_depth': 3}\n",
      "----\n",
      "Metrics:\n",
      "Train RMSE = 176.61 \n",
      "Test RMSE = 188.09\n",
      "----\n",
      "Train R2 score = 0.42952425635082503 \n",
      "Test R2 score = 0.22772652334849364\n"
     ]
    },
    {
     "name": "stderr",
     "output_type": "stream",
     "text": [
      "/opt/anaconda3/lib/python3.7/site-packages/sklearn/model_selection/_search.py:814: DeprecationWarning: The default of the `iid` parameter will change from True to False in version 0.22 and will be removed in 0.24. This will change numeric results when test-set sizes are unequal.\n",
      "  DeprecationWarning)\n"
     ]
    }
   ],
   "source": [
    "dtree_params = {\n",
    "    \"max_depth\": [3, 5, 10, 12, None]\n",
    "}\n",
    "\n",
    "dtree_one, rmse_tr, rmse_te, r2_tr, r2_te = ultrafit(X_train, X_test, y_train, y_test, \n",
    "                                                     DecisionTreeRegressor(), grid = True, params = dtree_params)\n",
    "\n",
    "rmse_train.append(rmse_tr)\n",
    "rmse_test.append(rmse_te)\n",
    "r2_train.append(r2_tr)\n",
    "r2_test.append(r2_te)"
   ]
  },
  {
   "cell_type": "markdown",
   "metadata": {},
   "source": [
    "#### Model: K Nearest-Neighbor Regressor"
   ]
  },
  {
   "cell_type": "code",
   "execution_count": 12,
   "metadata": {},
   "outputs": [
    {
     "name": "stdout",
     "output_type": "stream",
     "text": [
      "Gridsearching...\n",
      "Model has been fit.\n",
      "Best Parameters: \n",
      "{'n_neighbors': 7, 'weights': 'uniform'}\n",
      "----\n",
      "Metrics:\n",
      "Train RMSE = 181.54 \n",
      "Test RMSE = 198.79\n",
      "----\n",
      "Train R2 score = 0.39717670478394707 \n",
      "Test R2 score = 0.13742712324205608\n"
     ]
    },
    {
     "name": "stderr",
     "output_type": "stream",
     "text": [
      "/opt/anaconda3/lib/python3.7/site-packages/sklearn/model_selection/_search.py:814: DeprecationWarning: The default of the `iid` parameter will change from True to False in version 0.22 and will be removed in 0.24. This will change numeric results when test-set sizes are unequal.\n",
      "  DeprecationWarning)\n"
     ]
    }
   ],
   "source": [
    "knn_params = {\n",
    "    \"n_neighbors\": [3, 5, 7, 10, 12], \n",
    "    \"weights\": [\"uniform\", \"distance\"]\n",
    "}\n",
    "\n",
    "knn_one, rmse_tr, rmse_te, r2_tr, r2_te = ultrafit(X_train, X_test, y_train, y_test, \n",
    "                                                   KNeighborsRegressor(), grid = True, params = knn_params)\n",
    "\n",
    "rmse_train.append(rmse_tr)\n",
    "rmse_test.append(rmse_te)\n",
    "r2_train.append(r2_tr)\n",
    "r2_test.append(r2_te)"
   ]
  },
  {
   "cell_type": "markdown",
   "metadata": {},
   "source": [
    "#### Model: AdaBoost Regressor"
   ]
  },
  {
   "cell_type": "code",
   "execution_count": 13,
   "metadata": {},
   "outputs": [
    {
     "name": "stdout",
     "output_type": "stream",
     "text": [
      "Gridsearching...\n",
      "Model has been fit.\n",
      "Best Parameters: \n",
      "{'base_estimator': DecisionTreeRegressor(criterion='mse', max_depth=5, max_features=None,\n",
      "                      max_leaf_nodes=None, min_impurity_decrease=0.0,\n",
      "                      min_impurity_split=None, min_samples_leaf=1,\n",
      "                      min_samples_split=2, min_weight_fraction_leaf=0.0,\n",
      "                      presort=False, random_state=None, splitter='best'), 'n_estimators': 60}\n",
      "----\n",
      "Metrics:\n",
      "Train RMSE = 134.47 \n",
      "Test RMSE = 198.28\n",
      "----\n",
      "Train R2 score = 0.6692826686328045 \n",
      "Test R2 score = 0.14177000287411745\n"
     ]
    },
    {
     "name": "stderr",
     "output_type": "stream",
     "text": [
      "/opt/anaconda3/lib/python3.7/site-packages/sklearn/model_selection/_search.py:814: DeprecationWarning: The default of the `iid` parameter will change from True to False in version 0.22 and will be removed in 0.24. This will change numeric results when test-set sizes are unequal.\n",
      "  DeprecationWarning)\n"
     ]
    }
   ],
   "source": [
    "ada_params = {\n",
    "    \"base_estimator\": [DecisionTreeRegressor(max_depth = 3), DecisionTreeRegressor(max_depth = 5), \n",
    "                       DecisionTreeRegressor(max_depth = 7), DecisionTreeRegressor(max_depth = 10), \n",
    "                       DecisionTreeRegressor(max_depth = None)], \n",
    "    \"n_estimators\": [20, 30, 50, 60, 70]\n",
    "}\n",
    "\n",
    "ada_one, rmse_tr, rmse_te, r2_tr, r2_te = ultrafit(X_train, X_test, y_train, y_test, \n",
    "                                                   AdaBoostRegressor(), grid = True, params = ada_params)\n",
    "\n",
    "rmse_train.append(rmse_tr)\n",
    "rmse_test.append(rmse_te)\n",
    "r2_train.append(r2_tr)\n",
    "r2_test.append(r2_te)"
   ]
  },
  {
   "cell_type": "markdown",
   "metadata": {},
   "source": [
    "#### Model: Bagged Decision Tree Regressor"
   ]
  },
  {
   "cell_type": "code",
   "execution_count": 14,
   "metadata": {},
   "outputs": [
    {
     "name": "stdout",
     "output_type": "stream",
     "text": [
      "Gridsearching...\n",
      "Model has been fit.\n",
      "Best Parameters: \n",
      "{'bootstrap_features': True, 'max_features': 0.7, 'n_estimators': 15}\n",
      "----\n",
      "Metrics:\n",
      "Train RMSE = 88.3 \n",
      "Test RMSE = 200.11\n",
      "----\n",
      "Train R2 score = 0.8573890600203509 \n",
      "Test R2 score = 0.12586040555634692\n"
     ]
    },
    {
     "name": "stderr",
     "output_type": "stream",
     "text": [
      "/opt/anaconda3/lib/python3.7/site-packages/sklearn/model_selection/_search.py:814: DeprecationWarning: The default of the `iid` parameter will change from True to False in version 0.22 and will be removed in 0.24. This will change numeric results when test-set sizes are unequal.\n",
      "  DeprecationWarning)\n"
     ]
    }
   ],
   "source": [
    "bag_params = {\n",
    "    \"n_estimators\": [5, 10, 15, 20, 25], \n",
    "    \"max_features\": [0.3, 0.5, 0.7, 1.0], \n",
    "    \"bootstrap_features\": [True, False]\n",
    "}\n",
    "\n",
    "bag_one, rmse_tr, rmse_te, r2_tr, r2_te = ultrafit(X_train, X_test, y_train, y_test, \n",
    "                                                   BaggingRegressor(), grid = True, params = bag_params)\n",
    "\n",
    "rmse_train.append(rmse_tr)\n",
    "rmse_test.append(rmse_te)\n",
    "r2_train.append(r2_tr)\n",
    "r2_test.append(r2_te)"
   ]
  },
  {
   "cell_type": "markdown",
   "metadata": {},
   "source": [
    "#### Observations"
   ]
  },
  {
   "cell_type": "code",
   "execution_count": 16,
   "metadata": {},
   "outputs": [
    {
     "data": {
      "text/html": [
       "<div>\n",
       "<style scoped>\n",
       "    .dataframe tbody tr th:only-of-type {\n",
       "        vertical-align: middle;\n",
       "    }\n",
       "\n",
       "    .dataframe tbody tr th {\n",
       "        vertical-align: top;\n",
       "    }\n",
       "\n",
       "    .dataframe thead th {\n",
       "        text-align: right;\n",
       "    }\n",
       "</style>\n",
       "<table border=\"1\" class=\"dataframe\">\n",
       "  <thead>\n",
       "    <tr style=\"text-align: right;\">\n",
       "      <th></th>\n",
       "      <th>Model</th>\n",
       "      <th>RMSE Train</th>\n",
       "      <th>RMSE Test</th>\n",
       "      <th>R2 Train</th>\n",
       "      <th>R2 Test</th>\n",
       "      <th>RMSE Difference</th>\n",
       "    </tr>\n",
       "  </thead>\n",
       "  <tbody>\n",
       "    <tr>\n",
       "      <td>6</td>\n",
       "      <td>bag_one</td>\n",
       "      <td>88.30</td>\n",
       "      <td>200.11</td>\n",
       "      <td>0.857389</td>\n",
       "      <td>0.125860</td>\n",
       "      <td>-111.81</td>\n",
       "    </tr>\n",
       "    <tr>\n",
       "      <td>5</td>\n",
       "      <td>ada_one</td>\n",
       "      <td>134.47</td>\n",
       "      <td>198.28</td>\n",
       "      <td>0.669283</td>\n",
       "      <td>0.141770</td>\n",
       "      <td>-63.81</td>\n",
       "    </tr>\n",
       "    <tr>\n",
       "      <td>3</td>\n",
       "      <td>dtree_one</td>\n",
       "      <td>176.61</td>\n",
       "      <td>188.09</td>\n",
       "      <td>0.429524</td>\n",
       "      <td>0.227727</td>\n",
       "      <td>-11.48</td>\n",
       "    </tr>\n",
       "    <tr>\n",
       "      <td>4</td>\n",
       "      <td>knn_one</td>\n",
       "      <td>181.54</td>\n",
       "      <td>198.79</td>\n",
       "      <td>0.397177</td>\n",
       "      <td>0.137427</td>\n",
       "      <td>-17.25</td>\n",
       "    </tr>\n",
       "    <tr>\n",
       "      <td>0</td>\n",
       "      <td>lr_one</td>\n",
       "      <td>199.79</td>\n",
       "      <td>188.17</td>\n",
       "      <td>0.269889</td>\n",
       "      <td>0.227128</td>\n",
       "      <td>11.62</td>\n",
       "    </tr>\n",
       "    <tr>\n",
       "      <td>2</td>\n",
       "      <td>ridge_one</td>\n",
       "      <td>201.53</td>\n",
       "      <td>185.01</td>\n",
       "      <td>0.257122</td>\n",
       "      <td>0.252833</td>\n",
       "      <td>16.52</td>\n",
       "    </tr>\n",
       "    <tr>\n",
       "      <td>1</td>\n",
       "      <td>lasso_one</td>\n",
       "      <td>207.50</td>\n",
       "      <td>187.14</td>\n",
       "      <td>0.212453</td>\n",
       "      <td>0.235570</td>\n",
       "      <td>20.36</td>\n",
       "    </tr>\n",
       "  </tbody>\n",
       "</table>\n",
       "</div>"
      ],
      "text/plain": [
       "       Model  RMSE Train  RMSE Test  R2 Train   R2 Test  RMSE Difference\n",
       "6    bag_one       88.30     200.11  0.857389  0.125860          -111.81\n",
       "5    ada_one      134.47     198.28  0.669283  0.141770           -63.81\n",
       "3  dtree_one      176.61     188.09  0.429524  0.227727           -11.48\n",
       "4    knn_one      181.54     198.79  0.397177  0.137427           -17.25\n",
       "0     lr_one      199.79     188.17  0.269889  0.227128            11.62\n",
       "2  ridge_one      201.53     185.01  0.257122  0.252833            16.52\n",
       "1  lasso_one      207.50     187.14  0.212453  0.235570            20.36"
      ]
     },
     "execution_count": 16,
     "metadata": {},
     "output_type": "execute_result"
    }
   ],
   "source": [
    "metrics = {\n",
    "    \"Model\": [\"lr_one\", \"lasso_one\", \"ridge_one\", \"dtree_one\", \"knn_one\", \"ada_one\", \"bag_one\"], \n",
    "    \"RMSE Train\": rmse_train, \n",
    "    \"RMSE Test\": rmse_test, \n",
    "    \"R2 Train\": r2_train, \n",
    "    \"R2 Test\": r2_test\n",
    "}\n",
    "\n",
    "metrics_df = pd.DataFrame(metrics)\n",
    "\n",
    "metrics_df[\"RMSE Difference\"] = metrics_df[\"RMSE Train\"] - metrics_df[\"RMSE Test\"]\n",
    "\n",
    "metrics_df.sort_values(by = [\"RMSE Train\", \"RMSE Difference\", \"R2 Train\"], ascending = True)"
   ]
  },
  {
   "cell_type": "markdown",
   "metadata": {},
   "source": [
    "In this case the better performing models could be considered the **Multiple Linear Regression Models (Linear Regression, LASSO, and Ridge)**. Although they did have the higher RMSE of the models, the difference in RMSE and $R^2$ scores between the training and test models were much less stark than other models. The other models tested had a significant problem with overfitting, so despite good performance with training data the performance with test data was often at the same level as the multiple linear regression models (metrics-wise). "
   ]
  },
  {
   "cell_type": "code",
   "execution_count": null,
   "metadata": {},
   "outputs": [],
   "source": []
  }
 ],
 "metadata": {
  "kernelspec": {
   "display_name": "Python 3",
   "language": "python",
   "name": "python3"
  },
  "language_info": {
   "codemirror_mode": {
    "name": "ipython",
    "version": 3
   },
   "file_extension": ".py",
   "mimetype": "text/x-python",
   "name": "python",
   "nbconvert_exporter": "python",
   "pygments_lexer": "ipython3",
   "version": "3.7.4"
  }
 },
 "nbformat": 4,
 "nbformat_minor": 2
}
