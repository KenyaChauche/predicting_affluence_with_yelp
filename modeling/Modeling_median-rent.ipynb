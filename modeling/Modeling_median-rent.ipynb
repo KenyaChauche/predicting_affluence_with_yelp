{
 "cells": [
  {
   "cell_type": "markdown",
   "metadata": {},
   "source": [
    "### Modeling: Predicting Surrounding Demographics from Yelp \n",
    "\n",
    "In this section, we develop regression models predicting median rent, home value, and income based on the surrounding businesses accourding to Yelp.\n",
    "\n",
    "Given random GPS coordinates within Seattle, we establish a 0.5-mile and 1-mile radius around the point, and calculate the proportion of businesses within each price tier (also referred to as dollar tier). The GPS coordinates are also placed within a neighborhood and assigned a median rent, income, and home value based on that placement. The price tier metrics are used as parameters in the regression models, with target features of the regression models being one of the demographic metrics. "
   ]
  },
  {
   "cell_type": "markdown",
   "metadata": {},
   "source": [
    "##### Imports"
   ]
  },
  {
   "cell_type": "code",
   "execution_count": 1,
   "metadata": {},
   "outputs": [],
   "source": [
    "import pandas as pd\n",
    "import numpy as np\n",
    "import matplotlib.pyplot as plt\n",
    "import seaborn as sns\n",
    "import random\n",
    "\n",
    "from sklearn.linear_model import LinearRegression\n",
    "from sklearn.tree import DecisionTreeRegressor\n",
    "from sklearn.neighbors import KNeighborsRegressor\n",
    "\n",
    "from geopy import distance as d\n",
    "\n",
    "from CRA import * \n",
    "c = CRA()"
   ]
  },
  {
   "cell_type": "code",
   "execution_count": 2,
   "metadata": {},
   "outputs": [],
   "source": [
    "yelp = pd.read_csv(\"../datasets/seattle_restaurants.csv\")\n",
    "\n",
    "seattle = pd.read_csv(\"../datasets/seattle_demographics.csv\")"
   ]
  },
  {
   "cell_type": "markdown",
   "metadata": {},
   "source": [
    "##### Formatting\n",
    "\n",
    "Narrowing each dataset down to the desired features. For the Yelp dataset restaurant categories are not important, and neither is the original index (\"Unnamed: 0\"). For the Seattle demographics dataset the desired features in this case are GEN_ALIAS (neighborhood name), MEDIAN_GROSS_RENT (median rent for the neighborhood), HU_VALUE_MEDIAN_DOLLARS (median home value), and MEDIAN_HH_INC_PAST_12MO_DOLLAR (median annual income)."
   ]
  },
  {
   "cell_type": "code",
   "execution_count": 3,
   "metadata": {},
   "outputs": [],
   "source": [
    "# drop unwanted columns from Yelp dataset\n",
    "\n",
    "yelp.drop(columns = [\"Unnamed: 0\", \"categories\"], inplace = True)"
   ]
  },
  {
   "cell_type": "code",
   "execution_count": 4,
   "metadata": {},
   "outputs": [],
   "source": [
    "# specify columns to keep from Seattle demographics dataset\n",
    "\n",
    "keeps = [\"GEN_ALIAS\", \"MEDIAN_GROSS_RENT\", \"HU_VALUE_MEDIAN_DOLLARS\", \"MEDIAN_HH_INC_PAST_12MO_DOLLAR\"]\n",
    "\n",
    "seattle_rent = seattle.loc[:, keeps].copy()\n",
    "seattle_rent.rename(columns = {\"GEN_ALIAS\": \"neighborhood\", \"MEDIAN_GROSS_RENT\": \"median_rent\", \n",
    "                               \"HU_VALUE_MEDIAN_DOLLARS\": \"median_home_value\", \n",
    "                               \"MEDIAN_HH_INC_PAST_12MO_DOLLAR\": \"median_income\"}, inplace = True)"
   ]
  },
  {
   "cell_type": "code",
   "execution_count": 5,
   "metadata": {},
   "outputs": [
    {
     "name": "stdout",
     "output_type": "stream",
     "text": [
      "Not Found\n"
     ]
    },
    {
     "data": {
      "text/plain": [
       "[None]"
      ]
     },
     "execution_count": 5,
     "metadata": {},
     "output_type": "execute_result"
    }
   ],
   "source": [
    "# check for neighborhoods that do not match between the two datasets\n",
    "\n",
    "y = yelp[\"cra\"].unique()\n",
    "s = seattle_rent[\"neighborhood\"].unique()\n",
    "\n",
    "[print(x) for x in y if x not in s]"
   ]
  },
  {
   "cell_type": "code",
   "execution_count": 6,
   "metadata": {},
   "outputs": [],
   "source": [
    "# remove point where yelp businesses do not have an assigned neighborhood\n",
    "\n",
    "yelp = yelp[yelp[\"cra\"] != \"Not Found\"].copy()\n",
    "\n",
    "yelp.reset_index(inplace = True)"
   ]
  },
  {
   "cell_type": "code",
   "execution_count": 7,
   "metadata": {},
   "outputs": [],
   "source": [
    "# add columns in seattle df for yelp metrics \n",
    "\n",
    "filler = [0 for i in range(seattle_rent.shape[0])]\n",
    "\n",
    "for i in range(1, 5): \n",
    "    seattle_rent[f\"{i} dollar\"] = filler\n",
    "\n",
    "# define function for populating df with proportion of each tier of dollar sign rating \n",
    "def dollar_rating(seattle_df, yelp_df, neighborhood, dollar_tier): \n",
    "    yelp_hood = yelp_df[yelp_df[\"cra\"] == neighborhood]\n",
    "    \n",
    "    if yelp_df[yelp_df[\"cra\"] == neighborhood].shape[0] == 0: \n",
    "        proportion = 0\n",
    "    else: \n",
    "        num_businesses = yelp_df[yelp_df[\"cra\"] == neighborhood].shape[0]\n",
    "\n",
    "        proportion = (yelp_hood[yelp_hood[\"price\"] == dollar_tier].shape[0])/num_businesses\n",
    "    \n",
    "    hood_index = seattle_df.index[seattle_df[\"neighborhood\"] == neighborhood].tolist()\n",
    "    \n",
    "    seattle_df.loc[hood_index, [f\"{dollar_tier} dollar\"]] = proportion\n",
    "    "
   ]
  },
  {
   "cell_type": "code",
   "execution_count": 8,
   "metadata": {},
   "outputs": [],
   "source": [
    "# iterate over df\n",
    "\n",
    "hoods = list(seattle_rent[\"neighborhood\"].unique())\n",
    "\n",
    "for hood in hoods: \n",
    "    for i in range(1, 5): \n",
    "        dollar_rating(seattle_rent, yelp, hood, i)"
   ]
  },
  {
   "cell_type": "markdown",
   "metadata": {},
   "source": [
    "##### Generating Dataset for Regression Model\n",
    "Generate GPS coordinates within Seattle, drop values that do not fall within a neighborhood, then calculate yelp metrics for each GPS coordinate. Some formatting of the coordinates in the Yelp dataset was also required. "
   ]
  },
  {
   "cell_type": "code",
   "execution_count": 9,
   "metadata": {},
   "outputs": [],
   "source": [
    "# create separate columns for latitude and longitude in Yelp dataframe \n",
    "\n",
    "filler = [0 for x in range(yelp.shape[0])]\n",
    "\n",
    "yelp[\"latitude\"] = filler \n",
    "yelp[\"longitude\"] = filler"
   ]
  },
  {
   "cell_type": "code",
   "execution_count": 10,
   "metadata": {},
   "outputs": [],
   "source": [
    "# define function for separating coordinates and populating appropriate columns with values\n",
    "\n",
    "def separate_coordinates(yelp_df): \n",
    "    for coordinate in yelp_df[\"coordinates\"]: \n",
    "        index = yelp.index[yelp[\"coordinates\"] == coordinate]\n",
    "        \n",
    "        split = coordinate.split(\",\")\n",
    "        lat = split[0].replace(\"[\", \"\")\n",
    "        long = split[1].replace(\" \", \"\").replace(\"]\", \"\")\n",
    "        yelp.loc[index, [\"latitude\"]] = lat\n",
    "        yelp.loc[index, [\"longitude\"]] = long"
   ]
  },
  {
   "cell_type": "code",
   "execution_count": 11,
   "metadata": {},
   "outputs": [],
   "source": [
    "# call function \n",
    "\n",
    "separate_coordinates(yelp)\n",
    "\n",
    "# cast populated columns as floats\n",
    "\n",
    "yelp[\"latitude\"] = yelp[\"latitude\"].astype(\"float\")\n",
    "\n",
    "yelp[\"longitude\"] = yelp[\"longitude\"].astype(\"float\")"
   ]
  },
  {
   "cell_type": "code",
   "execution_count": null,
   "metadata": {},
   "outputs": [],
   "source": []
  },
  {
   "cell_type": "code",
   "execution_count": 12,
   "metadata": {},
   "outputs": [],
   "source": [
    "# generate gps locations \n",
    "\n",
    "gps_dict = {\"latitude\": [], \"longitude\": [], \"neighborhood\": []}\n",
    "\n",
    "for i in range(1300): \n",
    "    lat = round(random.uniform(yelp[\"latitude\"].min(), yelp[\"latitude\"].max()), 6)\n",
    "    gps_dict[\"latitude\"].append(lat)\n",
    "    \n",
    "    long = round(random.uniform(yelp[\"longitude\"].min(), yelp[\"longitude\"].max()), 6)\n",
    "    gps_dict[\"longitude\"].append(long)\n",
    "    \n",
    "    n = c.to_cra([long, lat])\n",
    "    gps_dict[\"neighborhood\"].append(n)"
   ]
  },
  {
   "cell_type": "code",
   "execution_count": 20,
   "metadata": {},
   "outputs": [],
   "source": [
    "# create dataframe of generated gps coord's\n",
    "\n",
    "gps_df = pd.DataFrame(gps_dict)\n",
    "\n",
    "# scrub values that do not fall within a neighborhood\n",
    "gps_df = gps_df[gps_df[\"neighborhood\"] != \"Not Found\"].copy()\n",
    "\n",
    "gps_df.reset_index(inplace = True)"
   ]
  },
  {
   "cell_type": "code",
   "execution_count": 21,
   "metadata": {},
   "outputs": [],
   "source": [
    "# create columns for dollar tier proportions within a 0.5- and 1-mile radius of point \n",
    "for i in range(1, 5): \n",
    "    gps_df[f\"0.5mi {i} dollar\"] = [0 for x in range(gps_df.shape[0])]\n",
    "    gps_df[f\"1.0mi {i} dollar\"] = [0 for x in range(gps_df.shape[0])]"
   ]
  },
  {
   "cell_type": "code",
   "execution_count": 22,
   "metadata": {},
   "outputs": [],
   "source": [
    "# define function for determining dollar tier proportion within a certain radius \n",
    "\n",
    "# this ends up taking about 2 seconds to run\n",
    "\n",
    "def radius_dollar_proportion(location, df, radius, dollar_tier):\n",
    "    length = df.shape[0]\n",
    "    \n",
    "    indices = []\n",
    "    \n",
    "    for i in range(length): \n",
    "        coordinates = (float(df.loc[i, [\"latitude\"]]), float(df.loc[i, [\"longitude\"]]))\n",
    "        if d.distance(location, coordinates).miles <= radius: \n",
    "            indices.append(i)\n",
    "    \n",
    "    if len(indices) == 0: \n",
    "        proportion = 0\n",
    "    else: \n",
    "        surrounding_businesses = df.iloc[indices]\n",
    "        total_businesses = surrounding_businesses.shape[0]\n",
    "        proportion = (surrounding_businesses[surrounding_businesses[\"price\"] == dollar_tier].shape[0]/total_businesses)\n",
    "    \n",
    "    return proportion\n",
    "    "
   ]
  },
  {
   "cell_type": "code",
   "execution_count": 23,
   "metadata": {},
   "outputs": [],
   "source": [
    "# test gps values\n",
    "house = (47.679981, -122.290608)\n",
    "bread = (47.679656, -122.290546)\n",
    "house2 = (47.618432, -122.322973)"
   ]
  },
  {
   "cell_type": "code",
   "execution_count": 24,
   "metadata": {},
   "outputs": [
    {
     "data": {
      "text/plain": [
       "0.7421875"
      ]
     },
     "execution_count": 24,
     "metadata": {},
     "output_type": "execute_result"
    }
   ],
   "source": [
    "# test field: single data point\n",
    "radius_dollar_proportion(house2, yelp, 0.5, 2)"
   ]
  },
  {
   "cell_type": "code",
   "execution_count": 25,
   "metadata": {},
   "outputs": [],
   "source": [
    "# iterate over entire dataframe, populate with yelp metrics for each coordinate\n",
    "\n",
    "# this will take almost 5 hours to run over the whole dataframe -___-\n",
    "\n",
    "for i in range(gps_df.shape[0]): \n",
    "    for dollar in range(1, 5): \n",
    "        for radius in [0.5, 1.0]: \n",
    "            location = (float(gps_df.loc[i, [\"latitude\"]]), float(gps_df.loc[i, [\"longitude\"]]))\n",
    "            gps_df.loc[i, [f\"{radius}mi {dollar} dollar\"]] = radius_dollar_proportion(location, yelp, radius, dollar)"
   ]
  },
  {
   "cell_type": "code",
   "execution_count": 27,
   "metadata": {},
   "outputs": [
    {
     "data": {
      "text/html": [
       "<div>\n",
       "<style scoped>\n",
       "    .dataframe tbody tr th:only-of-type {\n",
       "        vertical-align: middle;\n",
       "    }\n",
       "\n",
       "    .dataframe tbody tr th {\n",
       "        vertical-align: top;\n",
       "    }\n",
       "\n",
       "    .dataframe thead th {\n",
       "        text-align: right;\n",
       "    }\n",
       "</style>\n",
       "<table border=\"1\" class=\"dataframe\">\n",
       "  <thead>\n",
       "    <tr style=\"text-align: right;\">\n",
       "      <th></th>\n",
       "      <th>index</th>\n",
       "      <th>latitude</th>\n",
       "      <th>longitude</th>\n",
       "      <th>neighborhood</th>\n",
       "      <th>0.5mi 1 dollar</th>\n",
       "      <th>1.0mi 1 dollar</th>\n",
       "      <th>0.5mi 2 dollar</th>\n",
       "      <th>1.0mi 2 dollar</th>\n",
       "      <th>0.5mi 3 dollar</th>\n",
       "      <th>1.0mi 3 dollar</th>\n",
       "      <th>0.5mi 4 dollar</th>\n",
       "      <th>1.0mi 4 dollar</th>\n",
       "    </tr>\n",
       "  </thead>\n",
       "  <tbody>\n",
       "    <tr>\n",
       "      <td>987</td>\n",
       "      <td>1294</td>\n",
       "      <td>47.721342</td>\n",
       "      <td>-122.283124</td>\n",
       "      <td>Cedar Park/Meadowbrook</td>\n",
       "      <td>0.0</td>\n",
       "      <td>0.428571</td>\n",
       "      <td>0.0</td>\n",
       "      <td>0.571429</td>\n",
       "      <td>0.0</td>\n",
       "      <td>0.000000</td>\n",
       "      <td>0.0</td>\n",
       "      <td>0.0</td>\n",
       "    </tr>\n",
       "    <tr>\n",
       "      <td>988</td>\n",
       "      <td>1295</td>\n",
       "      <td>47.652495</td>\n",
       "      <td>-122.411601</td>\n",
       "      <td>Magnolia</td>\n",
       "      <td>0.0</td>\n",
       "      <td>0.000000</td>\n",
       "      <td>0.0</td>\n",
       "      <td>0.000000</td>\n",
       "      <td>0.0</td>\n",
       "      <td>0.000000</td>\n",
       "      <td>0.0</td>\n",
       "      <td>0.0</td>\n",
       "    </tr>\n",
       "    <tr>\n",
       "      <td>989</td>\n",
       "      <td>1296</td>\n",
       "      <td>47.654024</td>\n",
       "      <td>-122.295660</td>\n",
       "      <td>University District</td>\n",
       "      <td>0.0</td>\n",
       "      <td>0.483871</td>\n",
       "      <td>0.0</td>\n",
       "      <td>0.483871</td>\n",
       "      <td>0.0</td>\n",
       "      <td>0.032258</td>\n",
       "      <td>0.0</td>\n",
       "      <td>0.0</td>\n",
       "    </tr>\n",
       "    <tr>\n",
       "      <td>990</td>\n",
       "      <td>1297</td>\n",
       "      <td>47.641386</td>\n",
       "      <td>-122.399602</td>\n",
       "      <td>Magnolia</td>\n",
       "      <td>0.5</td>\n",
       "      <td>0.333333</td>\n",
       "      <td>0.5</td>\n",
       "      <td>0.500000</td>\n",
       "      <td>0.0</td>\n",
       "      <td>0.166667</td>\n",
       "      <td>0.0</td>\n",
       "      <td>0.0</td>\n",
       "    </tr>\n",
       "    <tr>\n",
       "      <td>991</td>\n",
       "      <td>1298</td>\n",
       "      <td>47.654877</td>\n",
       "      <td>-122.385763</td>\n",
       "      <td>Interbay</td>\n",
       "      <td>0.0</td>\n",
       "      <td>0.148936</td>\n",
       "      <td>1.0</td>\n",
       "      <td>0.829787</td>\n",
       "      <td>0.0</td>\n",
       "      <td>0.021277</td>\n",
       "      <td>0.0</td>\n",
       "      <td>0.0</td>\n",
       "    </tr>\n",
       "  </tbody>\n",
       "</table>\n",
       "</div>"
      ],
      "text/plain": [
       "     index   latitude   longitude            neighborhood  0.5mi 1 dollar  \\\n",
       "987   1294  47.721342 -122.283124  Cedar Park/Meadowbrook             0.0   \n",
       "988   1295  47.652495 -122.411601                Magnolia             0.0   \n",
       "989   1296  47.654024 -122.295660     University District             0.0   \n",
       "990   1297  47.641386 -122.399602                Magnolia             0.5   \n",
       "991   1298  47.654877 -122.385763                Interbay             0.0   \n",
       "\n",
       "     1.0mi 1 dollar  0.5mi 2 dollar  1.0mi 2 dollar  0.5mi 3 dollar  \\\n",
       "987        0.428571             0.0        0.571429             0.0   \n",
       "988        0.000000             0.0        0.000000             0.0   \n",
       "989        0.483871             0.0        0.483871             0.0   \n",
       "990        0.333333             0.5        0.500000             0.0   \n",
       "991        0.148936             1.0        0.829787             0.0   \n",
       "\n",
       "     1.0mi 3 dollar  0.5mi 4 dollar  1.0mi 4 dollar  \n",
       "987        0.000000             0.0             0.0  \n",
       "988        0.000000             0.0             0.0  \n",
       "989        0.032258             0.0             0.0  \n",
       "990        0.166667             0.0             0.0  \n",
       "991        0.021277             0.0             0.0  "
      ]
     },
     "execution_count": 27,
     "metadata": {},
     "output_type": "execute_result"
    }
   ],
   "source": [
    "gps_df.to_csv(\"../datasets/generated_gps_price_radius.csv\", index = False)"
   ]
  },
  {
   "cell_type": "markdown",
   "metadata": {},
   "source": [
    "##### Modeling\n",
    "Regression modeling with Yelp metrics as features, with the goal being predicting the median income, home value, and rent surrounding a GPS coordinate. "
   ]
  },
  {
   "cell_type": "code",
   "execution_count": null,
   "metadata": {},
   "outputs": [],
   "source": []
  },
  {
   "cell_type": "code",
   "execution_count": null,
   "metadata": {},
   "outputs": [],
   "source": []
  },
  {
   "cell_type": "code",
   "execution_count": null,
   "metadata": {},
   "outputs": [],
   "source": []
  }
 ],
 "metadata": {
  "kernelspec": {
   "display_name": "Python 3",
   "language": "python",
   "name": "python3"
  },
  "language_info": {
   "codemirror_mode": {
    "name": "ipython",
    "version": 3
   },
   "file_extension": ".py",
   "mimetype": "text/x-python",
   "name": "python",
   "nbconvert_exporter": "python",
   "pygments_lexer": "ipython3",
   "version": "3.7.4"
  }
 },
 "nbformat": 4,
 "nbformat_minor": 2
}
