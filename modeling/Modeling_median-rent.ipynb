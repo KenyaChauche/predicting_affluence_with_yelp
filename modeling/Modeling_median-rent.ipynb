{
 "cells": [
  {
   "cell_type": "markdown",
   "metadata": {},
   "source": [
    "### Modeling: Predicting Median Rent from Yelp "
   ]
  },
  {
   "cell_type": "markdown",
   "metadata": {},
   "source": [
    "##### Imports"
   ]
  },
  {
   "cell_type": "code",
   "execution_count": 174,
   "metadata": {},
   "outputs": [],
   "source": [
    "import pandas as pd\n",
    "import numpy as np\n",
    "import matplotlib.pyplot as plt\n",
    "import seaborn as sns\n",
    "import random\n",
    "\n",
    "from sklearn.linear_model import LinearRegression\n",
    "from sklearn.tree import DecisionTreeRegressor\n",
    "from sklearn.neighbors import KNeighborsRegressor\n",
    "\n",
    "from geopy import distance as d\n",
    "\n",
    "import sys\n",
    "import os\n",
    "sys.path.insert(0, os.path.abspath(\"../\"))\n",
    "\n",
    "import CRA as c"
   ]
  },
  {
   "cell_type": "code",
   "execution_count": 28,
   "metadata": {},
   "outputs": [],
   "source": [
    "yelp = pd.read_csv(\"../datasets/seattle_restaurants.csv\")\n",
    "\n",
    "seattle = pd.read_csv(\"../datasets/seattle_demographics.csv\")"
   ]
  },
  {
   "cell_type": "markdown",
   "metadata": {},
   "source": [
    "##### Formatting"
   ]
  },
  {
   "cell_type": "code",
   "execution_count": 35,
   "metadata": {},
   "outputs": [
    {
     "data": {
      "text/html": [
       "<div>\n",
       "<style scoped>\n",
       "    .dataframe tbody tr th:only-of-type {\n",
       "        vertical-align: middle;\n",
       "    }\n",
       "\n",
       "    .dataframe tbody tr th {\n",
       "        vertical-align: top;\n",
       "    }\n",
       "\n",
       "    .dataframe thead th {\n",
       "        text-align: right;\n",
       "    }\n",
       "</style>\n",
       "<table border=\"1\" class=\"dataframe\">\n",
       "  <thead>\n",
       "    <tr style=\"text-align: right;\">\n",
       "      <th></th>\n",
       "      <th>Unnamed: 0</th>\n",
       "      <th>name</th>\n",
       "      <th>price</th>\n",
       "      <th>categories</th>\n",
       "      <th>coordinates</th>\n",
       "      <th>cra</th>\n",
       "    </tr>\n",
       "  </thead>\n",
       "  <tbody>\n",
       "    <tr>\n",
       "      <td>0</td>\n",
       "      <td>0</td>\n",
       "      <td>Pike Place Chowder</td>\n",
       "      <td>2</td>\n",
       "      <td>['seafood', 'soup']</td>\n",
       "      <td>[47.60939, -122.34112]</td>\n",
       "      <td>Downtown Commercial Core</td>\n",
       "    </tr>\n",
       "    <tr>\n",
       "      <td>1</td>\n",
       "      <td>1</td>\n",
       "      <td>Piroshky Piroshky</td>\n",
       "      <td>1</td>\n",
       "      <td>['bakeries', 'russian']</td>\n",
       "      <td>[47.60991, -122.34231]</td>\n",
       "      <td>Belltown</td>\n",
       "    </tr>\n",
       "    <tr>\n",
       "      <td>2</td>\n",
       "      <td>2</td>\n",
       "      <td>The Pink Door</td>\n",
       "      <td>2</td>\n",
       "      <td>['italian', 'wine_bars', 'seafood']</td>\n",
       "      <td>[47.61028, -122.3425]</td>\n",
       "      <td>Belltown</td>\n",
       "    </tr>\n",
       "    <tr>\n",
       "      <td>3</td>\n",
       "      <td>3</td>\n",
       "      <td>Paseo</td>\n",
       "      <td>2</td>\n",
       "      <td>['caribbean', 'cuban', 'sandwiches']</td>\n",
       "      <td>[47.65849, -122.35031]</td>\n",
       "      <td>Fremont</td>\n",
       "    </tr>\n",
       "    <tr>\n",
       "      <td>4</td>\n",
       "      <td>4</td>\n",
       "      <td>Ellenos Real Greek Yogurt</td>\n",
       "      <td>1</td>\n",
       "      <td>['icecream']</td>\n",
       "      <td>[47.608912, -122.34058]</td>\n",
       "      <td>Downtown Commercial Core</td>\n",
       "    </tr>\n",
       "  </tbody>\n",
       "</table>\n",
       "</div>"
      ],
      "text/plain": [
       "   Unnamed: 0                       name  price  \\\n",
       "0           0         Pike Place Chowder      2   \n",
       "1           1          Piroshky Piroshky      1   \n",
       "2           2              The Pink Door      2   \n",
       "3           3                      Paseo      2   \n",
       "4           4  Ellenos Real Greek Yogurt      1   \n",
       "\n",
       "                             categories              coordinates  \\\n",
       "0                   ['seafood', 'soup']   [47.60939, -122.34112]   \n",
       "1               ['bakeries', 'russian']   [47.60991, -122.34231]   \n",
       "2   ['italian', 'wine_bars', 'seafood']    [47.61028, -122.3425]   \n",
       "3  ['caribbean', 'cuban', 'sandwiches']   [47.65849, -122.35031]   \n",
       "4                          ['icecream']  [47.608912, -122.34058]   \n",
       "\n",
       "                        cra  \n",
       "0  Downtown Commercial Core  \n",
       "1                  Belltown  \n",
       "2                  Belltown  \n",
       "3                   Fremont  \n",
       "4  Downtown Commercial Core  "
      ]
     },
     "execution_count": 35,
     "metadata": {},
     "output_type": "execute_result"
    }
   ],
   "source": [
    "yelp.head()"
   ]
  },
  {
   "cell_type": "code",
   "execution_count": 43,
   "metadata": {},
   "outputs": [],
   "source": [
    "yelp.drop(columns = [\"Unnamed: 0\"], inplace = True)"
   ]
  },
  {
   "cell_type": "code",
   "execution_count": 49,
   "metadata": {},
   "outputs": [
    {
     "data": {
      "text/html": [
       "<div>\n",
       "<style scoped>\n",
       "    .dataframe tbody tr th:only-of-type {\n",
       "        vertical-align: middle;\n",
       "    }\n",
       "\n",
       "    .dataframe tbody tr th {\n",
       "        vertical-align: top;\n",
       "    }\n",
       "\n",
       "    .dataframe thead th {\n",
       "        text-align: right;\n",
       "    }\n",
       "</style>\n",
       "<table border=\"1\" class=\"dataframe\">\n",
       "  <thead>\n",
       "    <tr style=\"text-align: right;\">\n",
       "      <th></th>\n",
       "      <th>OBJECTID</th>\n",
       "      <th>CRA_NO</th>\n",
       "      <th>CRA_GRP</th>\n",
       "      <th>GEN_ALIAS</th>\n",
       "      <th>DETL_NAMES</th>\n",
       "      <th>NEIGHDIST</th>\n",
       "      <th>AREA_SQMI</th>\n",
       "      <th>DISPLAY_NAME</th>\n",
       "      <th>TOTAL_POPULATION</th>\n",
       "      <th>MEDIAN_AGE</th>\n",
       "      <th>...</th>\n",
       "      <th>SHAPE_Area</th>\n",
       "      <th>PCT_ALL_FAMILY_UNDER_POVERTY</th>\n",
       "      <th>PCT_POPULATION_UNDER_POVERTY</th>\n",
       "      <th>HU_VALUE_MEDIAN_DOLLARS</th>\n",
       "      <th>AVERAGE_HOUSEHOLD_SIZE</th>\n",
       "      <th>CIVILIAN_LABOR_FORCE_UNEMPLOYD</th>\n",
       "      <th>CIVILIAN_LABOR_FORCE</th>\n",
       "      <th>CIVILIAN_LABOR_FORCE_EMPLOYED</th>\n",
       "      <th>NOT_IN_LABOR_FORCE</th>\n",
       "      <th>MEDIAN_HH_INC_PAST_12MO_DOLLAR</th>\n",
       "    </tr>\n",
       "  </thead>\n",
       "  <tbody>\n",
       "    <tr>\n",
       "      <td>0</td>\n",
       "      <td>1</td>\n",
       "      <td>10.4</td>\n",
       "      <td>10</td>\n",
       "      <td>Ballard</td>\n",
       "      <td>Ballard, West Woodland, Adams</td>\n",
       "      <td>Ballard</td>\n",
       "      <td>0.77</td>\n",
       "      <td>CRA - Ballard</td>\n",
       "      <td>8649</td>\n",
       "      <td>34.3</td>\n",
       "      <td>...</td>\n",
       "      <td>2.147231e+07</td>\n",
       "      <td>0.0</td>\n",
       "      <td>7.0</td>\n",
       "      <td>543200</td>\n",
       "      <td>1.62</td>\n",
       "      <td>324</td>\n",
       "      <td>6313</td>\n",
       "      <td>5989</td>\n",
       "      <td>1736</td>\n",
       "      <td>79162</td>\n",
       "    </tr>\n",
       "    <tr>\n",
       "      <td>1</td>\n",
       "      <td>2</td>\n",
       "      <td>10.1</td>\n",
       "      <td>10</td>\n",
       "      <td>North Beach/Blue Ridge</td>\n",
       "      <td>Crown Hill, North Beach, Blue Ridge</td>\n",
       "      <td>Ballard</td>\n",
       "      <td>2.01</td>\n",
       "      <td>CRA - North Beach-Blue Ridge</td>\n",
       "      <td>12701</td>\n",
       "      <td>42.6</td>\n",
       "      <td>...</td>\n",
       "      <td>5.595001e+07</td>\n",
       "      <td>6.6</td>\n",
       "      <td>7.8</td>\n",
       "      <td>658600</td>\n",
       "      <td>2.38</td>\n",
       "      <td>268</td>\n",
       "      <td>7787</td>\n",
       "      <td>7519</td>\n",
       "      <td>2666</td>\n",
       "      <td>94804</td>\n",
       "    </tr>\n",
       "    <tr>\n",
       "      <td>2</td>\n",
       "      <td>3</td>\n",
       "      <td>7.1</td>\n",
       "      <td>7</td>\n",
       "      <td>Montlake/Portage Bay</td>\n",
       "      <td>Montlake, Portage Bay, Interlaken Park, Eastla...</td>\n",
       "      <td>Northeast</td>\n",
       "      <td>1.49</td>\n",
       "      <td>CRA - Montlake-Portage Bay</td>\n",
       "      <td>9732</td>\n",
       "      <td>37.3</td>\n",
       "      <td>...</td>\n",
       "      <td>4.142908e+07</td>\n",
       "      <td>2.0</td>\n",
       "      <td>4.6</td>\n",
       "      <td>821250</td>\n",
       "      <td>2.09</td>\n",
       "      <td>110</td>\n",
       "      <td>6518</td>\n",
       "      <td>6408</td>\n",
       "      <td>1941</td>\n",
       "      <td>132573</td>\n",
       "    </tr>\n",
       "    <tr>\n",
       "      <td>3</td>\n",
       "      <td>4</td>\n",
       "      <td>12.2</td>\n",
       "      <td>12</td>\n",
       "      <td>Interbay</td>\n",
       "      <td>Interbay</td>\n",
       "      <td>Magnolia/Queen Anne</td>\n",
       "      <td>1.90</td>\n",
       "      <td>CRA - Interbay</td>\n",
       "      <td>11024</td>\n",
       "      <td>34.4</td>\n",
       "      <td>...</td>\n",
       "      <td>5.290776e+07</td>\n",
       "      <td>4.5</td>\n",
       "      <td>8.7</td>\n",
       "      <td>571300</td>\n",
       "      <td>1.92</td>\n",
       "      <td>334</td>\n",
       "      <td>7885</td>\n",
       "      <td>7551</td>\n",
       "      <td>1675</td>\n",
       "      <td>74679</td>\n",
       "    </tr>\n",
       "    <tr>\n",
       "      <td>4</td>\n",
       "      <td>5</td>\n",
       "      <td>6.3</td>\n",
       "      <td>6</td>\n",
       "      <td>North Capitol Hill</td>\n",
       "      <td>North Capitol Hill, Capitol Hill, North Broadway</td>\n",
       "      <td>East</td>\n",
       "      <td>0.44</td>\n",
       "      <td>CRA - North Capitol Hill</td>\n",
       "      <td>4807</td>\n",
       "      <td>36.1</td>\n",
       "      <td>...</td>\n",
       "      <td>1.235684e+07</td>\n",
       "      <td>1.2</td>\n",
       "      <td>2.3</td>\n",
       "      <td>896200</td>\n",
       "      <td>1.93</td>\n",
       "      <td>149</td>\n",
       "      <td>3415</td>\n",
       "      <td>3266</td>\n",
       "      <td>759</td>\n",
       "      <td>96220</td>\n",
       "    </tr>\n",
       "  </tbody>\n",
       "</table>\n",
       "<p>5 rows × 39 columns</p>\n",
       "</div>"
      ],
      "text/plain": [
       "   OBJECTID  CRA_NO  CRA_GRP               GEN_ALIAS  \\\n",
       "0         1    10.4       10                 Ballard   \n",
       "1         2    10.1       10  North Beach/Blue Ridge   \n",
       "2         3     7.1        7    Montlake/Portage Bay   \n",
       "3         4    12.2       12                Interbay   \n",
       "4         5     6.3        6      North Capitol Hill   \n",
       "\n",
       "                                          DETL_NAMES            NEIGHDIST  \\\n",
       "0                      Ballard, West Woodland, Adams              Ballard   \n",
       "1                Crown Hill, North Beach, Blue Ridge              Ballard   \n",
       "2  Montlake, Portage Bay, Interlaken Park, Eastla...            Northeast   \n",
       "3                                           Interbay  Magnolia/Queen Anne   \n",
       "4   North Capitol Hill, Capitol Hill, North Broadway                 East   \n",
       "\n",
       "   AREA_SQMI                  DISPLAY_NAME  TOTAL_POPULATION  MEDIAN_AGE  ...  \\\n",
       "0       0.77                 CRA - Ballard              8649        34.3  ...   \n",
       "1       2.01  CRA - North Beach-Blue Ridge             12701        42.6  ...   \n",
       "2       1.49    CRA - Montlake-Portage Bay              9732        37.3  ...   \n",
       "3       1.90                CRA - Interbay             11024        34.4  ...   \n",
       "4       0.44      CRA - North Capitol Hill              4807        36.1  ...   \n",
       "\n",
       "     SHAPE_Area  PCT_ALL_FAMILY_UNDER_POVERTY  PCT_POPULATION_UNDER_POVERTY  \\\n",
       "0  2.147231e+07                           0.0                           7.0   \n",
       "1  5.595001e+07                           6.6                           7.8   \n",
       "2  4.142908e+07                           2.0                           4.6   \n",
       "3  5.290776e+07                           4.5                           8.7   \n",
       "4  1.235684e+07                           1.2                           2.3   \n",
       "\n",
       "   HU_VALUE_MEDIAN_DOLLARS  AVERAGE_HOUSEHOLD_SIZE  \\\n",
       "0                   543200                    1.62   \n",
       "1                   658600                    2.38   \n",
       "2                   821250                    2.09   \n",
       "3                   571300                    1.92   \n",
       "4                   896200                    1.93   \n",
       "\n",
       "   CIVILIAN_LABOR_FORCE_UNEMPLOYD  CIVILIAN_LABOR_FORCE  \\\n",
       "0                             324                  6313   \n",
       "1                             268                  7787   \n",
       "2                             110                  6518   \n",
       "3                             334                  7885   \n",
       "4                             149                  3415   \n",
       "\n",
       "   CIVILIAN_LABOR_FORCE_EMPLOYED  NOT_IN_LABOR_FORCE  \\\n",
       "0                           5989                1736   \n",
       "1                           7519                2666   \n",
       "2                           6408                1941   \n",
       "3                           7551                1675   \n",
       "4                           3266                 759   \n",
       "\n",
       "   MEDIAN_HH_INC_PAST_12MO_DOLLAR  \n",
       "0                           79162  \n",
       "1                           94804  \n",
       "2                          132573  \n",
       "3                           74679  \n",
       "4                           96220  \n",
       "\n",
       "[5 rows x 39 columns]"
      ]
     },
     "execution_count": 49,
     "metadata": {},
     "output_type": "execute_result"
    }
   ],
   "source": [
    "seattle.head()"
   ]
  },
  {
   "cell_type": "code",
   "execution_count": 50,
   "metadata": {},
   "outputs": [],
   "source": [
    "keeps = [\"GEN_ALIAS\", \"AREA_SQMI\", \"MEDIAN_GROSS_RENT\"]\n",
    "\n",
    "seattle_rent = seattle.loc[:, keeps].copy()"
   ]
  },
  {
   "cell_type": "code",
   "execution_count": 58,
   "metadata": {},
   "outputs": [
    {
     "data": {
      "text/plain": [
       "[]"
      ]
     },
     "execution_count": 58,
     "metadata": {},
     "output_type": "execute_result"
    }
   ],
   "source": [
    "y = yelp[\"cra\"].unique()\n",
    "s = seattle[\"GEN_ALIAS\"].unique()\n",
    "\n",
    "[print(x) for x in y if x not in s]"
   ]
  },
  {
   "cell_type": "code",
   "execution_count": 57,
   "metadata": {},
   "outputs": [],
   "source": [
    "yelp = yelp[yelp[\"cra\"] != \"Not Found\"].copy()"
   ]
  },
  {
   "cell_type": "code",
   "execution_count": 62,
   "metadata": {},
   "outputs": [
    {
     "data": {
      "text/html": [
       "<div>\n",
       "<style scoped>\n",
       "    .dataframe tbody tr th:only-of-type {\n",
       "        vertical-align: middle;\n",
       "    }\n",
       "\n",
       "    .dataframe tbody tr th {\n",
       "        vertical-align: top;\n",
       "    }\n",
       "\n",
       "    .dataframe thead th {\n",
       "        text-align: right;\n",
       "    }\n",
       "</style>\n",
       "<table border=\"1\" class=\"dataframe\">\n",
       "  <thead>\n",
       "    <tr style=\"text-align: right;\">\n",
       "      <th></th>\n",
       "      <th>GEN_ALIAS</th>\n",
       "      <th>AREA_SQMI</th>\n",
       "      <th>MEDIAN_GROSS_RENT</th>\n",
       "      <th>1 dollar</th>\n",
       "    </tr>\n",
       "  </thead>\n",
       "  <tbody>\n",
       "    <tr>\n",
       "      <td>0</td>\n",
       "      <td>Ballard</td>\n",
       "      <td>0.77</td>\n",
       "      <td>1542</td>\n",
       "      <td>0</td>\n",
       "    </tr>\n",
       "    <tr>\n",
       "      <td>1</td>\n",
       "      <td>North Beach/Blue Ridge</td>\n",
       "      <td>2.01</td>\n",
       "      <td>1476</td>\n",
       "      <td>0</td>\n",
       "    </tr>\n",
       "    <tr>\n",
       "      <td>2</td>\n",
       "      <td>Montlake/Portage Bay</td>\n",
       "      <td>1.49</td>\n",
       "      <td>1723</td>\n",
       "      <td>0</td>\n",
       "    </tr>\n",
       "    <tr>\n",
       "      <td>3</td>\n",
       "      <td>Interbay</td>\n",
       "      <td>1.90</td>\n",
       "      <td>1490</td>\n",
       "      <td>0</td>\n",
       "    </tr>\n",
       "    <tr>\n",
       "      <td>4</td>\n",
       "      <td>North Capitol Hill</td>\n",
       "      <td>0.44</td>\n",
       "      <td>1576</td>\n",
       "      <td>0</td>\n",
       "    </tr>\n",
       "  </tbody>\n",
       "</table>\n",
       "</div>"
      ],
      "text/plain": [
       "                GEN_ALIAS  AREA_SQMI  MEDIAN_GROSS_RENT  1 dollar\n",
       "0                 Ballard       0.77               1542         0\n",
       "1  North Beach/Blue Ridge       2.01               1476         0\n",
       "2    Montlake/Portage Bay       1.49               1723         0\n",
       "3                Interbay       1.90               1490         0\n",
       "4      North Capitol Hill       0.44               1576         0"
      ]
     },
     "execution_count": 62,
     "metadata": {},
     "output_type": "execute_result"
    }
   ],
   "source": [
    "seattle_rent.head()"
   ]
  },
  {
   "cell_type": "code",
   "execution_count": 63,
   "metadata": {},
   "outputs": [],
   "source": [
    "filler = [0 for i in range(seattle_rent.shape[0])]\n",
    "\n",
    "for i in range(1, 5): \n",
    "    seattle_rent[f\"{i} dollar\"] = filler"
   ]
  },
  {
   "cell_type": "code",
   "execution_count": 131,
   "metadata": {},
   "outputs": [],
   "source": [
    "# add columns in seattle df for metrics \n",
    "# proportion of each tier of dollar sign rating \n",
    "\n",
    "def dollar_rating(seattle_df, yelp_df, neighborhood, dollar_tier): \n",
    "    yelp_hood = yelp_df[yelp_df[\"cra\"] == neighborhood]\n",
    "    \n",
    "    if yelp_df[yelp_df[\"cra\"] == neighborhood].shape[0] == 0: \n",
    "        proportion = 0\n",
    "    else: \n",
    "        num_businesses = yelp_df[yelp_df[\"cra\"] == neighborhood].shape[0]\n",
    "\n",
    "        proportion = (yelp_hood[yelp_hood[\"price\"] == dollar_tier].shape[0])/num_businesses\n",
    "    \n",
    "    hood_index = seattle_df.index[seattle_df[\"GEN_ALIAS\"] == neighborhood].tolist()\n",
    "    \n",
    "    seattle_df.loc[hood_index, [f\"{dollar_tier} dollar\"]] = proportion\n",
    "    "
   ]
  },
  {
   "cell_type": "code",
   "execution_count": 132,
   "metadata": {},
   "outputs": [],
   "source": [
    "hoods = list(seattle_rent[\"GEN_ALIAS\"].unique())\n",
    "\n",
    "for hood in hoods: \n",
    "    for i in range(1, 5): \n",
    "        dollar_rating(seattle_rent, yelp, hood, i)"
   ]
  },
  {
   "cell_type": "code",
   "execution_count": 133,
   "metadata": {},
   "outputs": [
    {
     "data": {
      "text/html": [
       "<div>\n",
       "<style scoped>\n",
       "    .dataframe tbody tr th:only-of-type {\n",
       "        vertical-align: middle;\n",
       "    }\n",
       "\n",
       "    .dataframe tbody tr th {\n",
       "        vertical-align: top;\n",
       "    }\n",
       "\n",
       "    .dataframe thead th {\n",
       "        text-align: right;\n",
       "    }\n",
       "</style>\n",
       "<table border=\"1\" class=\"dataframe\">\n",
       "  <thead>\n",
       "    <tr style=\"text-align: right;\">\n",
       "      <th></th>\n",
       "      <th>GEN_ALIAS</th>\n",
       "      <th>AREA_SQMI</th>\n",
       "      <th>MEDIAN_GROSS_RENT</th>\n",
       "      <th>1 dollar</th>\n",
       "      <th>2 dollar</th>\n",
       "      <th>3 dollar</th>\n",
       "      <th>4 dollar</th>\n",
       "    </tr>\n",
       "  </thead>\n",
       "  <tbody>\n",
       "    <tr>\n",
       "      <td>0</td>\n",
       "      <td>Ballard</td>\n",
       "      <td>0.77</td>\n",
       "      <td>1542</td>\n",
       "      <td>0.229167</td>\n",
       "      <td>0.750000</td>\n",
       "      <td>0.020833</td>\n",
       "      <td>0.0</td>\n",
       "    </tr>\n",
       "    <tr>\n",
       "      <td>1</td>\n",
       "      <td>North Beach/Blue Ridge</td>\n",
       "      <td>2.01</td>\n",
       "      <td>1476</td>\n",
       "      <td>0.000000</td>\n",
       "      <td>1.000000</td>\n",
       "      <td>0.000000</td>\n",
       "      <td>0.0</td>\n",
       "    </tr>\n",
       "    <tr>\n",
       "      <td>2</td>\n",
       "      <td>Montlake/Portage Bay</td>\n",
       "      <td>1.49</td>\n",
       "      <td>1723</td>\n",
       "      <td>0.142857</td>\n",
       "      <td>0.714286</td>\n",
       "      <td>0.142857</td>\n",
       "      <td>0.0</td>\n",
       "    </tr>\n",
       "    <tr>\n",
       "      <td>3</td>\n",
       "      <td>Interbay</td>\n",
       "      <td>1.90</td>\n",
       "      <td>1490</td>\n",
       "      <td>0.400000</td>\n",
       "      <td>0.600000</td>\n",
       "      <td>0.000000</td>\n",
       "      <td>0.0</td>\n",
       "    </tr>\n",
       "    <tr>\n",
       "      <td>4</td>\n",
       "      <td>North Capitol Hill</td>\n",
       "      <td>0.44</td>\n",
       "      <td>1576</td>\n",
       "      <td>0.250000</td>\n",
       "      <td>0.750000</td>\n",
       "      <td>0.000000</td>\n",
       "      <td>0.0</td>\n",
       "    </tr>\n",
       "  </tbody>\n",
       "</table>\n",
       "</div>"
      ],
      "text/plain": [
       "                GEN_ALIAS  AREA_SQMI  MEDIAN_GROSS_RENT  1 dollar  2 dollar  \\\n",
       "0                 Ballard       0.77               1542  0.229167  0.750000   \n",
       "1  North Beach/Blue Ridge       2.01               1476  0.000000  1.000000   \n",
       "2    Montlake/Portage Bay       1.49               1723  0.142857  0.714286   \n",
       "3                Interbay       1.90               1490  0.400000  0.600000   \n",
       "4      North Capitol Hill       0.44               1576  0.250000  0.750000   \n",
       "\n",
       "   3 dollar  4 dollar  \n",
       "0  0.020833       0.0  \n",
       "1  0.000000       0.0  \n",
       "2  0.142857       0.0  \n",
       "3  0.000000       0.0  \n",
       "4  0.000000       0.0  "
      ]
     },
     "execution_count": 133,
     "metadata": {},
     "output_type": "execute_result"
    }
   ],
   "source": [
    "seattle_rent.head()"
   ]
  },
  {
   "cell_type": "code",
   "execution_count": null,
   "metadata": {},
   "outputs": [],
   "source": [
    "yelp.reset_index(inplace = True)"
   ]
  },
  {
   "cell_type": "markdown",
   "metadata": {},
   "source": [
    "##### Functions\n",
    "Defining functions for finding businesses within a certain radius of a selected location"
   ]
  },
  {
   "cell_type": "code",
   "execution_count": 136,
   "metadata": {},
   "outputs": [
    {
     "data": {
      "text/html": [
       "<div>\n",
       "<style scoped>\n",
       "    .dataframe tbody tr th:only-of-type {\n",
       "        vertical-align: middle;\n",
       "    }\n",
       "\n",
       "    .dataframe tbody tr th {\n",
       "        vertical-align: top;\n",
       "    }\n",
       "\n",
       "    .dataframe thead th {\n",
       "        text-align: right;\n",
       "    }\n",
       "</style>\n",
       "<table border=\"1\" class=\"dataframe\">\n",
       "  <thead>\n",
       "    <tr style=\"text-align: right;\">\n",
       "      <th></th>\n",
       "      <th>name</th>\n",
       "      <th>price</th>\n",
       "      <th>categories</th>\n",
       "      <th>coordinates</th>\n",
       "      <th>cra</th>\n",
       "    </tr>\n",
       "  </thead>\n",
       "  <tbody>\n",
       "    <tr>\n",
       "      <td>0</td>\n",
       "      <td>Pike Place Chowder</td>\n",
       "      <td>2</td>\n",
       "      <td>['seafood', 'soup']</td>\n",
       "      <td>[47.60939, -122.34112]</td>\n",
       "      <td>Downtown Commercial Core</td>\n",
       "    </tr>\n",
       "    <tr>\n",
       "      <td>1</td>\n",
       "      <td>Piroshky Piroshky</td>\n",
       "      <td>1</td>\n",
       "      <td>['bakeries', 'russian']</td>\n",
       "      <td>[47.60991, -122.34231]</td>\n",
       "      <td>Belltown</td>\n",
       "    </tr>\n",
       "    <tr>\n",
       "      <td>2</td>\n",
       "      <td>The Pink Door</td>\n",
       "      <td>2</td>\n",
       "      <td>['italian', 'wine_bars', 'seafood']</td>\n",
       "      <td>[47.61028, -122.3425]</td>\n",
       "      <td>Belltown</td>\n",
       "    </tr>\n",
       "    <tr>\n",
       "      <td>3</td>\n",
       "      <td>Paseo</td>\n",
       "      <td>2</td>\n",
       "      <td>['caribbean', 'cuban', 'sandwiches']</td>\n",
       "      <td>[47.65849, -122.35031]</td>\n",
       "      <td>Fremont</td>\n",
       "    </tr>\n",
       "    <tr>\n",
       "      <td>4</td>\n",
       "      <td>Ellenos Real Greek Yogurt</td>\n",
       "      <td>1</td>\n",
       "      <td>['icecream']</td>\n",
       "      <td>[47.608912, -122.34058]</td>\n",
       "      <td>Downtown Commercial Core</td>\n",
       "    </tr>\n",
       "  </tbody>\n",
       "</table>\n",
       "</div>"
      ],
      "text/plain": [
       "                        name  price                            categories  \\\n",
       "0         Pike Place Chowder      2                   ['seafood', 'soup']   \n",
       "1          Piroshky Piroshky      1               ['bakeries', 'russian']   \n",
       "2              The Pink Door      2   ['italian', 'wine_bars', 'seafood']   \n",
       "3                      Paseo      2  ['caribbean', 'cuban', 'sandwiches']   \n",
       "4  Ellenos Real Greek Yogurt      1                          ['icecream']   \n",
       "\n",
       "               coordinates                       cra  \n",
       "0   [47.60939, -122.34112]  Downtown Commercial Core  \n",
       "1   [47.60991, -122.34231]                  Belltown  \n",
       "2    [47.61028, -122.3425]                  Belltown  \n",
       "3   [47.65849, -122.35031]                   Fremont  \n",
       "4  [47.608912, -122.34058]  Downtown Commercial Core  "
      ]
     },
     "execution_count": 136,
     "metadata": {},
     "output_type": "execute_result"
    }
   ],
   "source": [
    "yelp.head()"
   ]
  },
  {
   "cell_type": "code",
   "execution_count": 141,
   "metadata": {},
   "outputs": [
    {
     "data": {
      "text/plain": [
       "name           object\n",
       "price           int64\n",
       "categories     object\n",
       "coordinates    object\n",
       "cra            object\n",
       "dtype: object"
      ]
     },
     "execution_count": 141,
     "metadata": {},
     "output_type": "execute_result"
    }
   ],
   "source": [
    "yelp.dtypes"
   ]
  },
  {
   "cell_type": "code",
   "execution_count": 148,
   "metadata": {},
   "outputs": [],
   "source": [
    "filler = [0 for x in range(yelp.shape[0])]\n",
    "\n",
    "yelp[\"latitude\"] = filler \n",
    "yelp[\"longitude\"] = filler"
   ]
  },
  {
   "cell_type": "code",
   "execution_count": 164,
   "metadata": {},
   "outputs": [],
   "source": [
    "def separate_coordinates(yelp_df): \n",
    "    for coordinate in yelp_df[\"coordinates\"]: \n",
    "        index = yelp.index[yelp[\"coordinates\"] == coordinate]\n",
    "        \n",
    "        split = coordinate.split(\",\")\n",
    "        lat = split[0].replace(\"[\", \"\")\n",
    "        long = split[1].replace(\" \", \"\").replace(\"]\", \"\")\n",
    "        yelp.loc[index, [\"latitude\"]] = lat\n",
    "        yelp.loc[index, [\"longitude\"]] = long"
   ]
  },
  {
   "cell_type": "code",
   "execution_count": 166,
   "metadata": {},
   "outputs": [],
   "source": [
    "separate_coordinates(yelp)"
   ]
  },
  {
   "cell_type": "code",
   "execution_count": 178,
   "metadata": {},
   "outputs": [],
   "source": [
    "yelp[\"latitude\"] = yelp[\"latitude\"].astype(\"float\")\n",
    "\n",
    "yelp[\"longitude\"] = yelp[\"longitude\"].astype(\"float\")"
   ]
  },
  {
   "cell_type": "code",
   "execution_count": 167,
   "metadata": {},
   "outputs": [
    {
     "data": {
      "text/html": [
       "<div>\n",
       "<style scoped>\n",
       "    .dataframe tbody tr th:only-of-type {\n",
       "        vertical-align: middle;\n",
       "    }\n",
       "\n",
       "    .dataframe tbody tr th {\n",
       "        vertical-align: top;\n",
       "    }\n",
       "\n",
       "    .dataframe thead th {\n",
       "        text-align: right;\n",
       "    }\n",
       "</style>\n",
       "<table border=\"1\" class=\"dataframe\">\n",
       "  <thead>\n",
       "    <tr style=\"text-align: right;\">\n",
       "      <th></th>\n",
       "      <th>name</th>\n",
       "      <th>price</th>\n",
       "      <th>categories</th>\n",
       "      <th>coordinates</th>\n",
       "      <th>cra</th>\n",
       "      <th>latitude</th>\n",
       "      <th>longitude</th>\n",
       "    </tr>\n",
       "  </thead>\n",
       "  <tbody>\n",
       "    <tr>\n",
       "      <td>0</td>\n",
       "      <td>Pike Place Chowder</td>\n",
       "      <td>2</td>\n",
       "      <td>['seafood', 'soup']</td>\n",
       "      <td>[47.60939, -122.34112]</td>\n",
       "      <td>Downtown Commercial Core</td>\n",
       "      <td>47.60939</td>\n",
       "      <td>-122.34112</td>\n",
       "    </tr>\n",
       "    <tr>\n",
       "      <td>1</td>\n",
       "      <td>Piroshky Piroshky</td>\n",
       "      <td>1</td>\n",
       "      <td>['bakeries', 'russian']</td>\n",
       "      <td>[47.60991, -122.34231]</td>\n",
       "      <td>Belltown</td>\n",
       "      <td>47.60991</td>\n",
       "      <td>-122.34231</td>\n",
       "    </tr>\n",
       "    <tr>\n",
       "      <td>2</td>\n",
       "      <td>The Pink Door</td>\n",
       "      <td>2</td>\n",
       "      <td>['italian', 'wine_bars', 'seafood']</td>\n",
       "      <td>[47.61028, -122.3425]</td>\n",
       "      <td>Belltown</td>\n",
       "      <td>47.61028</td>\n",
       "      <td>-122.3425</td>\n",
       "    </tr>\n",
       "    <tr>\n",
       "      <td>3</td>\n",
       "      <td>Paseo</td>\n",
       "      <td>2</td>\n",
       "      <td>['caribbean', 'cuban', 'sandwiches']</td>\n",
       "      <td>[47.65849, -122.35031]</td>\n",
       "      <td>Fremont</td>\n",
       "      <td>47.65849</td>\n",
       "      <td>-122.35031</td>\n",
       "    </tr>\n",
       "    <tr>\n",
       "      <td>4</td>\n",
       "      <td>Ellenos Real Greek Yogurt</td>\n",
       "      <td>1</td>\n",
       "      <td>['icecream']</td>\n",
       "      <td>[47.608912, -122.34058]</td>\n",
       "      <td>Downtown Commercial Core</td>\n",
       "      <td>47.608912</td>\n",
       "      <td>-122.34058</td>\n",
       "    </tr>\n",
       "  </tbody>\n",
       "</table>\n",
       "</div>"
      ],
      "text/plain": [
       "                        name  price                            categories  \\\n",
       "0         Pike Place Chowder      2                   ['seafood', 'soup']   \n",
       "1          Piroshky Piroshky      1               ['bakeries', 'russian']   \n",
       "2              The Pink Door      2   ['italian', 'wine_bars', 'seafood']   \n",
       "3                      Paseo      2  ['caribbean', 'cuban', 'sandwiches']   \n",
       "4  Ellenos Real Greek Yogurt      1                          ['icecream']   \n",
       "\n",
       "               coordinates                       cra   latitude   longitude  \n",
       "0   [47.60939, -122.34112]  Downtown Commercial Core   47.60939  -122.34112  \n",
       "1   [47.60991, -122.34231]                  Belltown   47.60991  -122.34231  \n",
       "2    [47.61028, -122.3425]                  Belltown   47.61028   -122.3425  \n",
       "3   [47.65849, -122.35031]                   Fremont   47.65849  -122.35031  \n",
       "4  [47.608912, -122.34058]  Downtown Commercial Core  47.608912  -122.34058  "
      ]
     },
     "execution_count": 167,
     "metadata": {},
     "output_type": "execute_result"
    }
   ],
   "source": [
    "yelp.head()"
   ]
  },
  {
   "cell_type": "code",
   "execution_count": 204,
   "metadata": {},
   "outputs": [],
   "source": [
    "# generate gps locations \n",
    "\n",
    "gps_dict = {\"latitude\": [], \"longitude\": [], \"neighborhood\": []}\n",
    "\n",
    "for i in range(1300): \n",
    "    lat = round(random.uniform(yelp[\"latitude\"].min(), yelp[\"latitude\"].max()), 6)\n",
    "    gps_dict[\"latitude\"].append(lat)\n",
    "    \n",
    "    long = round(random.uniform(yelp[\"longitude\"].min(), yelp[\"longitude\"].max()), 6)\n",
    "    gps_dict[\"longitude\"].append(long)\n",
    "    \n",
    "    n = c.to_cra([long, lat])\n",
    "    gps_dict[\"neighborhood\"].append(n)"
   ]
  },
  {
   "cell_type": "code",
   "execution_count": 205,
   "metadata": {},
   "outputs": [
    {
     "data": {
      "text/plain": [
       "(993, 3)"
      ]
     },
     "execution_count": 205,
     "metadata": {},
     "output_type": "execute_result"
    }
   ],
   "source": [
    "gps_df = pd.DataFrame(gps_dict)\n",
    "\n",
    "gps_df = gps_df[gps_df[\"neighborhood\"] != \"Not Found\"].copy()\n",
    "\n",
    "gps_df.shape"
   ]
  },
  {
   "cell_type": "code",
   "execution_count": 213,
   "metadata": {},
   "outputs": [
    {
     "data": {
      "text/plain": [
       "4.5074044982716455"
      ]
     },
     "execution_count": 213,
     "metadata": {},
     "output_type": "execute_result"
    }
   ],
   "source": [
    "d.distance(home, sasha).miles"
   ]
  },
  {
   "cell_type": "code",
   "execution_count": 217,
   "metadata": {},
   "outputs": [],
   "source": [
    "for i in range(1, 5): \n",
    "    gps_df[f\"0.5mi {i} dollar\"] = [0 for x in range(gps_df.shape[0])]\n",
    "    gps_df[f\"1.0mi {i} dollar\"] = [0 for x in range(gps_df.shape[0])]"
   ]
  },
  {
   "cell_type": "code",
   "execution_count": 220,
   "metadata": {},
   "outputs": [
    {
     "data": {
      "text/html": [
       "<div>\n",
       "<style scoped>\n",
       "    .dataframe tbody tr th:only-of-type {\n",
       "        vertical-align: middle;\n",
       "    }\n",
       "\n",
       "    .dataframe tbody tr th {\n",
       "        vertical-align: top;\n",
       "    }\n",
       "\n",
       "    .dataframe thead th {\n",
       "        text-align: right;\n",
       "    }\n",
       "</style>\n",
       "<table border=\"1\" class=\"dataframe\">\n",
       "  <thead>\n",
       "    <tr style=\"text-align: right;\">\n",
       "      <th></th>\n",
       "      <th>latitude</th>\n",
       "      <th>longitude</th>\n",
       "      <th>neighborhood</th>\n",
       "      <th>0.5mi 1 dollar</th>\n",
       "      <th>1.0mi 1 dollar</th>\n",
       "      <th>0.5mi 2 dollar</th>\n",
       "      <th>1.0mi 2 dollar</th>\n",
       "      <th>0.5mi 3 dollar</th>\n",
       "      <th>1.0mi 3 dollar</th>\n",
       "      <th>0.5mi 4 dollar</th>\n",
       "      <th>1.0mi 4 dollar</th>\n",
       "    </tr>\n",
       "  </thead>\n",
       "  <tbody>\n",
       "    <tr>\n",
       "      <td>1</td>\n",
       "      <td>47.702117</td>\n",
       "      <td>-122.346505</td>\n",
       "      <td>Licton Springs</td>\n",
       "      <td>0</td>\n",
       "      <td>0</td>\n",
       "      <td>0</td>\n",
       "      <td>0</td>\n",
       "      <td>0</td>\n",
       "      <td>0</td>\n",
       "      <td>0</td>\n",
       "      <td>0</td>\n",
       "    </tr>\n",
       "    <tr>\n",
       "      <td>2</td>\n",
       "      <td>47.716100</td>\n",
       "      <td>-122.365286</td>\n",
       "      <td>Broadview/Bitter Lake</td>\n",
       "      <td>0</td>\n",
       "      <td>0</td>\n",
       "      <td>0</td>\n",
       "      <td>0</td>\n",
       "      <td>0</td>\n",
       "      <td>0</td>\n",
       "      <td>0</td>\n",
       "      <td>0</td>\n",
       "    </tr>\n",
       "    <tr>\n",
       "      <td>4</td>\n",
       "      <td>47.649240</td>\n",
       "      <td>-122.400311</td>\n",
       "      <td>Magnolia</td>\n",
       "      <td>0</td>\n",
       "      <td>0</td>\n",
       "      <td>0</td>\n",
       "      <td>0</td>\n",
       "      <td>0</td>\n",
       "      <td>0</td>\n",
       "      <td>0</td>\n",
       "      <td>0</td>\n",
       "    </tr>\n",
       "    <tr>\n",
       "      <td>6</td>\n",
       "      <td>47.610194</td>\n",
       "      <td>-122.320842</td>\n",
       "      <td>Capitol Hill</td>\n",
       "      <td>0</td>\n",
       "      <td>0</td>\n",
       "      <td>0</td>\n",
       "      <td>0</td>\n",
       "      <td>0</td>\n",
       "      <td>0</td>\n",
       "      <td>0</td>\n",
       "      <td>0</td>\n",
       "    </tr>\n",
       "    <tr>\n",
       "      <td>7</td>\n",
       "      <td>47.571082</td>\n",
       "      <td>-122.379656</td>\n",
       "      <td>West Seattle Junction/Genesee Hill</td>\n",
       "      <td>0</td>\n",
       "      <td>0</td>\n",
       "      <td>0</td>\n",
       "      <td>0</td>\n",
       "      <td>0</td>\n",
       "      <td>0</td>\n",
       "      <td>0</td>\n",
       "      <td>0</td>\n",
       "    </tr>\n",
       "  </tbody>\n",
       "</table>\n",
       "</div>"
      ],
      "text/plain": [
       "    latitude   longitude                        neighborhood  0.5mi 1 dollar  \\\n",
       "1  47.702117 -122.346505                      Licton Springs               0   \n",
       "2  47.716100 -122.365286               Broadview/Bitter Lake               0   \n",
       "4  47.649240 -122.400311                            Magnolia               0   \n",
       "6  47.610194 -122.320842                        Capitol Hill               0   \n",
       "7  47.571082 -122.379656  West Seattle Junction/Genesee Hill               0   \n",
       "\n",
       "   1.0mi 1 dollar  0.5mi 2 dollar  1.0mi 2 dollar  0.5mi 3 dollar  \\\n",
       "1               0               0               0               0   \n",
       "2               0               0               0               0   \n",
       "4               0               0               0               0   \n",
       "6               0               0               0               0   \n",
       "7               0               0               0               0   \n",
       "\n",
       "   1.0mi 3 dollar  0.5mi 4 dollar  1.0mi 4 dollar  \n",
       "1               0               0               0  \n",
       "2               0               0               0  \n",
       "4               0               0               0  \n",
       "6               0               0               0  \n",
       "7               0               0               0  "
      ]
     },
     "execution_count": 220,
     "metadata": {},
     "output_type": "execute_result"
    }
   ],
   "source": [
    "gps_df.head()"
   ]
  },
  {
   "cell_type": "code",
   "execution_count": 245,
   "metadata": {},
   "outputs": [
    {
     "data": {
      "text/plain": [
       "tuple"
      ]
     },
     "execution_count": 245,
     "metadata": {},
     "output_type": "execute_result"
    }
   ],
   "source": [
    "type((gps_df.loc[0, [\"latitude\"]], gps_df.loc[0, [\"longitude\"]]))"
   ]
  },
  {
   "cell_type": "code",
   "execution_count": 253,
   "metadata": {},
   "outputs": [
    {
     "data": {
      "text/plain": [
       "tuple"
      ]
     },
     "execution_count": 253,
     "metadata": {},
     "output_type": "execute_result"
    }
   ],
   "source": [
    "bread = (47.679642, -122.290494)\n",
    "\n",
    "type(bread)"
   ]
  },
  {
   "cell_type": "code",
   "execution_count": 308,
   "metadata": {},
   "outputs": [],
   "source": [
    "def radius_dollar_proportion(location, df, radius, dollar_tier):\n",
    "    length = df.shape[0]\n",
    "    \n",
    "    indices = []\n",
    "    \n",
    "    for i in range(length): \n",
    "        coordinates = (float(df.loc[i, [\"latitude\"]]), float(df.loc[i, [\"longitude\"]]))\n",
    "        if d.distance(location, coordinates).miles <= radius: \n",
    "            indices.append(i)\n",
    "    \n",
    "    if len(indices) == 0: \n",
    "        proportion = 0\n",
    "    else: \n",
    "        surrounding_businesses = df.iloc[indices]\n",
    "        total_businesses = surrounding_businesses.shape[0]\n",
    "        proportion = (surrounding_businesses[surrounding_businesses[\"price\"] == dollar_tier].shape[0]/total_businesses)\n",
    "    \n",
    "    return proportion\n",
    "    "
   ]
  },
  {
   "cell_type": "code",
   "execution_count": 309,
   "metadata": {},
   "outputs": [
    {
     "data": {
      "text/plain": [
       "0.0234375"
      ]
     },
     "execution_count": 309,
     "metadata": {},
     "output_type": "execute_result"
    }
   ],
   "source": [
    "radius_dollar_proportion(sasha, yelp, 0.5, 3)"
   ]
  },
  {
   "cell_type": "code",
   "execution_count": 311,
   "metadata": {},
   "outputs": [],
   "source": [
    "for i in range(gps_df.shape[0]): \n",
    "    for dollar in range(1, 5): \n",
    "        for radius in [0.5, 1.0]: \n",
    "            location = (float(gps_df.loc[i, [\"latitude\"]]), float(gps_df.loc[i, [\"longitude\"]]))\n",
    "            gps_df.loc[i, [f\"{radius}mi {dollar} dollar\"]] = radius_dollar_proportion(location, yelp, radius, dollar)"
   ]
  },
  {
   "cell_type": "code",
   "execution_count": 314,
   "metadata": {},
   "outputs": [
    {
     "data": {
      "text/plain": [
       "(993, 12)"
      ]
     },
     "execution_count": 314,
     "metadata": {},
     "output_type": "execute_result"
    }
   ],
   "source": [
    "gps_df.shape"
   ]
  },
  {
   "cell_type": "code",
   "execution_count": null,
   "metadata": {},
   "outputs": [],
   "source": []
  }
 ],
 "metadata": {
  "kernelspec": {
   "display_name": "Python 3",
   "language": "python",
   "name": "python3"
  },
  "language_info": {
   "codemirror_mode": {
    "name": "ipython",
    "version": 3
   },
   "file_extension": ".py",
   "mimetype": "text/x-python",
   "name": "python",
   "nbconvert_exporter": "python",
   "pygments_lexer": "ipython3",
   "version": "3.7.4"
  }
 },
 "nbformat": 4,
 "nbformat_minor": 2
}
