{
 "cells": [
  {
   "cell_type": "markdown",
   "metadata": {},
   "source": [
    "### Modeling: Predicting Surrounding Demographics from Yelp \n",
    "\n",
    "In this section, we develop regression models predicting median rent, home value, and income based on the surrounding businesses accourding to Yelp.\n",
    "\n",
    "Given random GPS coordinates within Seattle, we establish a 0.5-mile and 1-mile radius around the point, and calculate the proportion of businesses within each price tier (also referred to as dollar tier). The GPS coordinates are also placed within a neighborhood and assigned a median rent, income, and home value based on that placement. The price tier metrics are used as parameters in the regression models, with target features of the regression models being one of the demographic metrics. "
   ]
  },
  {
   "cell_type": "markdown",
   "metadata": {},
   "source": [
    "##### Imports"
   ]
  },
  {
   "cell_type": "code",
   "execution_count": 9,
   "metadata": {},
   "outputs": [],
   "source": [
    "import pandas as pd\n",
    "import numpy as np\n",
    "import matplotlib.pyplot as plt\n",
    "import seaborn as sns\n",
    "import random\n",
    "\n",
    "from sklearn.linear_model import LinearRegression\n",
    "from sklearn.tree import DecisionTreeRegressor\n",
    "from sklearn.neighbors import KNeighborsRegressor\n",
    "\n",
    "from geopy import distance as d\n",
    "\n",
    "from CRA import * \n",
    "c = CRA()"
   ]
  },
  {
   "cell_type": "code",
   "execution_count": 10,
   "metadata": {},
   "outputs": [],
   "source": [
    "yelp = pd.read_csv(\"../datasets/seattle_restaurants.csv\")\n",
    "\n",
    "seattle = pd.read_csv(\"../datasets/seattle_demographics.csv\")"
   ]
  },
  {
   "cell_type": "markdown",
   "metadata": {},
   "source": [
    "##### Formatting\n",
    "\n",
    "Narrowing each dataset down to the desired features. For the Yelp dataset restaurant categories are not important, and neither is the original index (\"Unnamed: 0\"). For the Seattle demographics dataset the desired features in this case are GEN_ALIAS (neighborhood name), MEDIAN_GROSS_RENT (median rent for the neighborhood), HU_VALUE_MEDIAN_DOLLARS (median home value), and MEDIAN_HH_INC_PAST_12MO_DOLLAR (median annual income)."
   ]
  },
  {
   "cell_type": "code",
   "execution_count": 11,
   "metadata": {},
   "outputs": [],
   "source": [
    "# drop unwanted columns from Yelp dataset\n",
    "\n",
    "yelp.drop(columns = [\"Unnamed: 0\", \"categories\"], inplace = True)"
   ]
  },
  {
   "cell_type": "code",
   "execution_count": 13,
   "metadata": {},
   "outputs": [],
   "source": [
    "# specify columns to keep from Seattle demographics dataset\n",
    "\n",
    "keeps = [\"GEN_ALIAS\", \"MEDIAN_GROSS_RENT\", \"HU_VALUE_MEDIAN_DOLLARS\", \"MEDIAN_HH_INC_PAST_12MO_DOLLAR\"]\n",
    "\n",
    "seattle_rent = seattle.loc[:, keeps].copy()\n",
    "seattle_rent.rename(columns = {\"GEN_ALIAS\": \"neighborhood\", \"MEDIAN_GROSS_RENT\": \"median_rent\", \n",
    "                               \"HU_VALUE_MEDIAN_DOLLARS\": \"median_home_value\", \n",
    "                               \"MEDIAN_HH_INC_PAST_12MO_DOLLAR\": \"median_income\"}, inplace = True)"
   ]
  },
  {
   "cell_type": "code",
   "execution_count": 14,
   "metadata": {},
   "outputs": [
    {
     "name": "stdout",
     "output_type": "stream",
     "text": [
      "Not Found\n"
     ]
    },
    {
     "data": {
      "text/plain": [
       "[None]"
      ]
     },
     "execution_count": 14,
     "metadata": {},
     "output_type": "execute_result"
    }
   ],
   "source": [
    "# check for neighborhoods that do not match between the two datasets\n",
    "\n",
    "y = yelp[\"cra\"].unique()\n",
    "s = seattle_rent[\"neighborhood\"].unique()\n",
    "\n",
    "[print(x) for x in y if x not in s]"
   ]
  },
  {
   "cell_type": "code",
   "execution_count": 15,
   "metadata": {},
   "outputs": [],
   "source": [
    "# remove point where yelp businesses do not have an assigned neighborhood\n",
    "\n",
    "yelp = yelp[yelp[\"cra\"] != \"Not Found\"].copy()\n",
    "\n",
    "yelp.reset_index(inplace = True)"
   ]
  },
  {
   "cell_type": "code",
   "execution_count": 131,
   "metadata": {},
   "outputs": [],
   "source": [
    "# add columns in seattle df for yelp metrics \n",
    "\n",
    "filler = [0 for i in range(seattle_rent.shape[0])]\n",
    "\n",
    "for i in range(1, 5): \n",
    "    seattle_rent[f\"{i} dollar\"] = filler\n",
    "\n",
    "# define function for populating df with proportion of each tier of dollar sign rating \n",
    "def dollar_rating(seattle_df, yelp_df, neighborhood, dollar_tier): \n",
    "    yelp_hood = yelp_df[yelp_df[\"cra\"] == neighborhood]\n",
    "    \n",
    "    if yelp_df[yelp_df[\"cra\"] == neighborhood].shape[0] == 0: \n",
    "        proportion = 0\n",
    "    else: \n",
    "        num_businesses = yelp_df[yelp_df[\"cra\"] == neighborhood].shape[0]\n",
    "\n",
    "        proportion = (yelp_hood[yelp_hood[\"price\"] == dollar_tier].shape[0])/num_businesses\n",
    "    \n",
    "    hood_index = seattle_df.index[seattle_df[\"neighborhood\"] == neighborhood].tolist()\n",
    "    \n",
    "    seattle_df.loc[hood_index, [f\"{dollar_tier} dollar\"]] = proportion\n",
    "    "
   ]
  },
  {
   "cell_type": "code",
   "execution_count": 132,
   "metadata": {},
   "outputs": [],
   "source": [
    "# iterate over df\n",
    "\n",
    "hoods = list(seattle_rent[\"neighborhood\"].unique())\n",
    "\n",
    "for hood in hoods: \n",
    "    for i in range(1, 5): \n",
    "        dollar_rating(seattle_rent, yelp, hood, i)"
   ]
  },
  {
   "cell_type": "markdown",
   "metadata": {},
   "source": [
    "##### Generating Dataset for Regression Model\n",
    "Generate GPS coordinates within Seattle, drop values that do not fall within a neighborhood, then calculate yelp metrics for each GPS coordinate. Some formatting of the coordinates in the Yelp dataset was also required. "
   ]
  },
  {
   "cell_type": "code",
   "execution_count": null,
   "metadata": {},
   "outputs": [],
   "source": [
    "# create separate columns for latitude and longitude in Yelp dataframe \n",
    "\n",
    "filler = [0 for x in range(yelp.shape[0])]\n",
    "\n",
    "yelp[\"latitude\"] = filler \n",
    "yelp[\"longitude\"] = filler"
   ]
  },
  {
   "cell_type": "code",
   "execution_count": null,
   "metadata": {},
   "outputs": [],
   "source": [
    "# define function for separating coordinates and populating appropriate columns with values\n",
    "\n",
    "def separate_coordinates(yelp_df): \n",
    "    for coordinate in yelp_df[\"coordinates\"]: \n",
    "        index = yelp.index[yelp[\"coordinates\"] == coordinate]\n",
    "        \n",
    "        split = coordinate.split(\",\")\n",
    "        lat = split[0].replace(\"[\", \"\")\n",
    "        long = split[1].replace(\" \", \"\").replace(\"]\", \"\")\n",
    "        yelp.loc[index, [\"latitude\"]] = lat\n",
    "        yelp.loc[index, [\"longitude\"]] = long"
   ]
  },
  {
   "cell_type": "code",
   "execution_count": null,
   "metadata": {},
   "outputs": [],
   "source": [
    "# call function \n",
    "\n",
    "separate_coordinates(yelp)\n",
    "\n",
    "# cast populated columns as floats\n",
    "\n",
    "yelp[\"latitude\"] = yelp[\"latitude\"].astype(\"float\")\n",
    "\n",
    "yelp[\"longitude\"] = yelp[\"longitude\"].astype(\"float\")"
   ]
  },
  {
   "cell_type": "code",
   "execution_count": null,
   "metadata": {},
   "outputs": [],
   "source": []
  },
  {
   "cell_type": "code",
   "execution_count": null,
   "metadata": {},
   "outputs": [],
   "source": [
    "# generate gps locations \n",
    "\n",
    "gps_dict = {\"latitude\": [], \"longitude\": [], \"neighborhood\": []}\n",
    "\n",
    "for i in range(1300): \n",
    "    lat = round(random.uniform(yelp[\"latitude\"].min(), yelp[\"latitude\"].max()), 6)\n",
    "    gps_dict[\"latitude\"].append(lat)\n",
    "    \n",
    "    long = round(random.uniform(yelp[\"longitude\"].min(), yelp[\"longitude\"].max()), 6)\n",
    "    gps_dict[\"longitude\"].append(long)\n",
    "    \n",
    "    n = c.to_cra([long, lat])\n",
    "    gps_dict[\"neighborhood\"].append(n)"
   ]
  },
  {
   "cell_type": "code",
   "execution_count": null,
   "metadata": {},
   "outputs": [],
   "source": [
    "# create dataframe of generated gps coord's\n",
    "\n",
    "gps_df = pd.DataFrame(gps_dict)\n",
    "\n",
    "# scrub values that do not fall within a neighborhood\n",
    "gps_df = gps_df[gps_df[\"neighborhood\"] != \"Not Found\"].copy()\n",
    "\n",
    "gps_df.shape"
   ]
  },
  {
   "cell_type": "code",
   "execution_count": null,
   "metadata": {},
   "outputs": [],
   "source": [
    "# create columns for dollar tier proportions within a 0.5- and 1-mile radius of point \n",
    "for i in range(1, 5): \n",
    "    gps_df[f\"0.5mi {i} dollar\"] = [0 for x in range(gps_df.shape[0])]\n",
    "    gps_df[f\"1.0mi {i} dollar\"] = [0 for x in range(gps_df.shape[0])]"
   ]
  },
  {
   "cell_type": "code",
   "execution_count": null,
   "metadata": {},
   "outputs": [],
   "source": [
    "# define function for determining dollar tier proportion within a certain radius \n",
    "\n",
    "# this ends up taking about 2 seconds to run\n",
    "\n",
    "def radius_dollar_proportion(location, df, radius, dollar_tier):\n",
    "    length = df.shape[0]\n",
    "    \n",
    "    indices = []\n",
    "    \n",
    "    for i in range(length): \n",
    "        coordinates = (float(df.loc[i, [\"latitude\"]]), float(df.loc[i, [\"longitude\"]]))\n",
    "        if d.distance(location, coordinates).miles <= radius: \n",
    "            indices.append(i)\n",
    "    \n",
    "    if len(indices) == 0: \n",
    "        proportion = 0\n",
    "    else: \n",
    "        surrounding_businesses = df.iloc[indices]\n",
    "        total_businesses = surrounding_businesses.shape[0]\n",
    "        proportion = (surrounding_businesses[surrounding_businesses[\"price\"] == dollar_tier].shape[0]/total_businesses)\n",
    "    \n",
    "    return proportion\n",
    "    "
   ]
  },
  {
   "cell_type": "code",
   "execution_count": 20,
   "metadata": {},
   "outputs": [
    {
     "ename": "NameError",
     "evalue": "name 'sasha' is not defined",
     "output_type": "error",
     "traceback": [
      "\u001b[0;31m---------------------------------------------------------------------------\u001b[0m",
      "\u001b[0;31mNameError\u001b[0m                                 Traceback (most recent call last)",
      "\u001b[0;32m<ipython-input-20-9db6ec3b976a>\u001b[0m in \u001b[0;36m<module>\u001b[0;34m\u001b[0m\n\u001b[1;32m      1\u001b[0m \u001b[0;31m# test gps value\u001b[0m\u001b[0;34m\u001b[0m\u001b[0;34m\u001b[0m\u001b[0;34m\u001b[0m\u001b[0m\n\u001b[0;32m----> 2\u001b[0;31m \u001b[0msasha\u001b[0m\u001b[0;34m\u001b[0m\u001b[0;34m\u001b[0m\u001b[0m\n\u001b[0m",
      "\u001b[0;31mNameError\u001b[0m: name 'sasha' is not defined"
     ]
    }
   ],
   "source": [
    "# test gps values\n",
    "house = (47.679981, -122.290608)\n",
    "bread = (47.679656, -122.290546)\n",
    "house2 = (47.618432, -122.322973)"
   ]
  },
  {
   "cell_type": "code",
   "execution_count": 148,
   "metadata": {},
   "outputs": [],
   "source": [
    "# test field: single data point\n",
    "radius_dollar_proportion(house2, yelp, 0.5, 2)"
   ]
  },
  {
   "cell_type": "code",
   "execution_count": 164,
   "metadata": {},
   "outputs": [],
   "source": [
    "# iterate over entire dataframe, populate with yelp metrics for each coordinate\n",
    "\n",
    "# this will take almost 5 hours to run over the whole dataframe -___-\n",
    "\n",
    "for i in range(gps_df.shape[0]): \n",
    "    for dollar in range(1, 5): \n",
    "        for radius in [0.5, 1.0]: \n",
    "            location = (float(gps_df.loc[i, [\"latitude\"]]), float(gps_df.loc[i, [\"longitude\"]]))\n",
    "            gps_df.loc[i, [f\"{radius}mi {dollar} dollar\"]] = radius_dollar_proportion(location, yelp, radius, dollar)"
   ]
  },
  {
   "cell_type": "markdown",
   "metadata": {},
   "source": [
    "##### Modeling\n",
    "Regression modeling with Yelp metrics as features, with the goal being predicting the median income, home value, and rent surrounding a GPS coordinate. "
   ]
  },
  {
   "cell_type": "code",
   "execution_count": null,
   "metadata": {},
   "outputs": [],
   "source": []
  },
  {
   "cell_type": "code",
   "execution_count": null,
   "metadata": {},
   "outputs": [],
   "source": []
  },
  {
   "cell_type": "code",
   "execution_count": null,
   "metadata": {},
   "outputs": [],
   "source": []
  }
 ],
 "metadata": {
  "kernelspec": {
   "display_name": "Python 3",
   "language": "python",
   "name": "python3"
  },
  "language_info": {
   "codemirror_mode": {
    "name": "ipython",
    "version": 3
   },
   "file_extension": ".py",
   "mimetype": "text/x-python",
   "name": "python",
   "nbconvert_exporter": "python",
   "pygments_lexer": "ipython3",
   "version": "3.7.4"
  }
 },
 "nbformat": 4,
 "nbformat_minor": 2
}
