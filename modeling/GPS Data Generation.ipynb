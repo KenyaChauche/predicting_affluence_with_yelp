{
 "cells": [
  {
   "cell_type": "markdown",
   "metadata": {},
   "source": [
    "### Dataset Generation: GPS Coordinates, Yelp metrics, Seattle Neighborhood demographics\n",
    "\n",
    "In this section, we generate data to use in regression models that will predict area affluence given the Yelp metrics of an area surrounding a given GPS coordinate. Here, we produce the GPS data by randomly generating GPS coordinates that fall within Seattle neighborhoods. The GPS coordinates will be generated, while Yelp metrics and demographic information will be pulled from sourced datasets (Yelp and Seattle Demographics).\n",
    "\n",
    "Given random GPS coordinates within Seattle, we establish a 0.5-mile and 1-mile radius around the point, and calculate the proportion of businesses within each price tier (also referred to as dollar tier). The GPS coordinates are also placed within a neighborhood and assigned a median rent, income, and home value based on that placement."
   ]
  },
  {
   "cell_type": "markdown",
   "metadata": {},
   "source": [
    "##### Imports"
   ]
  },
  {
   "cell_type": "code",
   "execution_count": 1,
   "metadata": {},
   "outputs": [],
   "source": [
    "import pandas as pd\n",
    "import numpy as np\n",
    "import random\n",
    "\n",
    "from geopy import distance as d\n",
    "\n",
    "from CRA import * \n",
    "c = CRA()"
   ]
  },
  {
   "cell_type": "code",
   "execution_count": 2,
   "metadata": {},
   "outputs": [],
   "source": [
    "yelp = pd.read_csv(\"../datasets/seattle_restaurants.csv\")\n",
    "\n",
    "seattle = pd.read_csv(\"../datasets/seattle_demographics.csv\")"
   ]
  },
  {
   "cell_type": "markdown",
   "metadata": {},
   "source": [
    "##### Formatting\n",
    "\n",
    "Narrowing each sourced dataset down to the desired features. For the Yelp dataset restaurant categories are not important, and neither is the original index (\"Unnamed: 0\"). For the Seattle demographics dataset the desired features in this case are GEN_ALIAS (neighborhood name), MEDIAN_GROSS_RENT (median rent for the neighborhood), HU_VALUE_MEDIAN_DOLLARS (median home value), and MEDIAN_HH_INC_PAST_12MO_DOLLAR (median annual income)."
   ]
  },
  {
   "cell_type": "code",
   "execution_count": 3,
   "metadata": {},
   "outputs": [],
   "source": [
    "# drop unwanted columns from Yelp dataset\n",
    "\n",
    "yelp.drop(columns = [\"Unnamed: 0\", \"categories\"], inplace = True)"
   ]
  },
  {
   "cell_type": "code",
   "execution_count": 4,
   "metadata": {},
   "outputs": [],
   "source": [
    "# specify columns to keep from Seattle demographics dataset\n",
    "\n",
    "keeps = [\"GEN_ALIAS\", \"MEDIAN_GROSS_RENT\", \"HU_VALUE_MEDIAN_DOLLARS\", \"MEDIAN_HH_INC_PAST_12MO_DOLLAR\"]\n",
    "\n",
    "seattle_rent = seattle.loc[:, keeps].copy()\n",
    "seattle_rent.rename(columns = {\"GEN_ALIAS\": \"neighborhood\", \"MEDIAN_GROSS_RENT\": \"median_rent\", \n",
    "                               \"HU_VALUE_MEDIAN_DOLLARS\": \"median_home_value\", \n",
    "                               \"MEDIAN_HH_INC_PAST_12MO_DOLLAR\": \"median_income\"}, inplace = True)"
   ]
  },
  {
   "cell_type": "code",
   "execution_count": 5,
   "metadata": {},
   "outputs": [
    {
     "name": "stdout",
     "output_type": "stream",
     "text": [
      "Not Found\n"
     ]
    },
    {
     "data": {
      "text/plain": [
       "[None]"
      ]
     },
     "execution_count": 5,
     "metadata": {},
     "output_type": "execute_result"
    }
   ],
   "source": [
    "# check for neighborhoods that do not match between the two datasets\n",
    "\n",
    "y = yelp[\"cra\"].unique()\n",
    "s = seattle_rent[\"neighborhood\"].unique()\n",
    "\n",
    "[print(x) for x in y if x not in s]"
   ]
  },
  {
   "cell_type": "code",
   "execution_count": 6,
   "metadata": {},
   "outputs": [],
   "source": [
    "# remove point where yelp businesses do not have an assigned neighborhood\n",
    "\n",
    "yelp = yelp[yelp[\"cra\"] != \"Not Found\"].copy()\n",
    "\n",
    "yelp.reset_index(inplace = True)"
   ]
  },
  {
   "cell_type": "code",
   "execution_count": 7,
   "metadata": {},
   "outputs": [],
   "source": [
    "# add columns in seattle df for yelp metrics \n",
    "\n",
    "filler = [0 for i in range(seattle_rent.shape[0])]\n",
    "\n",
    "for i in range(1, 5): \n",
    "    seattle_rent[f\"{i} dollar\"] = filler\n",
    "\n",
    "# define function for populating df with proportion of each tier of dollar sign rating \n",
    "def dollar_rating(seattle_df, yelp_df, neighborhood, dollar_tier): \n",
    "    yelp_hood = yelp_df[yelp_df[\"cra\"] == neighborhood]\n",
    "    \n",
    "    if yelp_df[yelp_df[\"cra\"] == neighborhood].shape[0] == 0: \n",
    "        proportion = 0\n",
    "    else: \n",
    "        num_businesses = yelp_df[yelp_df[\"cra\"] == neighborhood].shape[0]\n",
    "\n",
    "        proportion = (yelp_hood[yelp_hood[\"price\"] == dollar_tier].shape[0])/num_businesses\n",
    "    \n",
    "    hood_index = seattle_df.index[seattle_df[\"neighborhood\"] == neighborhood].tolist()\n",
    "    \n",
    "    seattle_df.loc[hood_index, [f\"{dollar_tier} dollar\"]] = proportion\n",
    "    "
   ]
  },
  {
   "cell_type": "code",
   "execution_count": 8,
   "metadata": {},
   "outputs": [],
   "source": [
    "# iterate over df\n",
    "\n",
    "hoods = list(seattle_rent[\"neighborhood\"].unique())\n",
    "\n",
    "for hood in hoods: \n",
    "    for i in range(1, 5): \n",
    "        dollar_rating(seattle_rent, yelp, hood, i)"
   ]
  },
  {
   "cell_type": "markdown",
   "metadata": {},
   "source": [
    "##### Generating Dataset for Regression Model\n",
    "Generate GPS coordinates within Seattle, drop values that do not fall within a neighborhood, then calculate yelp metrics for each GPS coordinate. Some formatting of the coordinates in the Yelp dataset was also required. Neighborhood demographic data will also be added. "
   ]
  },
  {
   "cell_type": "code",
   "execution_count": 9,
   "metadata": {},
   "outputs": [],
   "source": [
    "# create separate columns for latitude and longitude in Yelp dataframe \n",
    "\n",
    "filler = [0 for x in range(yelp.shape[0])]\n",
    "\n",
    "yelp[\"latitude\"] = filler \n",
    "yelp[\"longitude\"] = filler"
   ]
  },
  {
   "cell_type": "code",
   "execution_count": 10,
   "metadata": {},
   "outputs": [],
   "source": [
    "# define function for separating coordinates and populating appropriate columns with values\n",
    "\n",
    "def separate_coordinates(yelp_df): \n",
    "    for coordinate in yelp_df[\"coordinates\"]: \n",
    "        index = yelp.index[yelp[\"coordinates\"] == coordinate]\n",
    "        \n",
    "        split = coordinate.split(\",\")\n",
    "        lat = split[0].replace(\"[\", \"\")\n",
    "        long = split[1].replace(\" \", \"\").replace(\"]\", \"\")\n",
    "        yelp.loc[index, [\"latitude\"]] = lat\n",
    "        yelp.loc[index, [\"longitude\"]] = long"
   ]
  },
  {
   "cell_type": "code",
   "execution_count": 11,
   "metadata": {},
   "outputs": [],
   "source": [
    "# call function \n",
    "\n",
    "separate_coordinates(yelp)\n",
    "\n",
    "# cast populated columns as floats\n",
    "\n",
    "yelp[\"latitude\"] = yelp[\"latitude\"].astype(\"float\")\n",
    "\n",
    "yelp[\"longitude\"] = yelp[\"longitude\"].astype(\"float\")"
   ]
  },
  {
   "cell_type": "code",
   "execution_count": 12,
   "metadata": {},
   "outputs": [],
   "source": [
    "# generate gps locations \n",
    "\n",
    "gps_dict = {\"latitude\": [], \"longitude\": [], \"neighborhood\": []}\n",
    "\n",
    "for i in range(1300): \n",
    "    lat = round(random.uniform(yelp[\"latitude\"].min(), yelp[\"latitude\"].max()), 6)\n",
    "    gps_dict[\"latitude\"].append(lat)\n",
    "    \n",
    "    long = round(random.uniform(yelp[\"longitude\"].min(), yelp[\"longitude\"].max()), 6)\n",
    "    gps_dict[\"longitude\"].append(long)\n",
    "    \n",
    "    n = c.to_cra([long, lat])\n",
    "    gps_dict[\"neighborhood\"].append(n)"
   ]
  },
  {
   "cell_type": "code",
   "execution_count": 20,
   "metadata": {},
   "outputs": [],
   "source": [
    "# create dataframe of generated gps coord's\n",
    "\n",
    "gps_df = pd.DataFrame(gps_dict)\n",
    "\n",
    "# scrub values that do not fall within a Seattle neighborhood\n",
    "gps_df = gps_df[gps_df[\"neighborhood\"] != \"Not Found\"].copy()\n",
    "\n",
    "gps_df.reset_index(inplace = True)"
   ]
  },
  {
   "cell_type": "code",
   "execution_count": 21,
   "metadata": {},
   "outputs": [],
   "source": [
    "# create columns for dollar tier proportions within a 0.5- and 1-mile radius of point \n",
    "for i in range(1, 5): \n",
    "    gps_df[f\"0.5mi {i} dollar\"] = [0 for x in range(gps_df.shape[0])]\n",
    "    gps_df[f\"1.0mi {i} dollar\"] = [0 for x in range(gps_df.shape[0])]"
   ]
  },
  {
   "cell_type": "code",
   "execution_count": 22,
   "metadata": {},
   "outputs": [],
   "source": [
    "# define function for determining dollar tier proportion within a certain radius \n",
    "\n",
    "# this ends up taking about 2 seconds to run\n",
    "\n",
    "def radius_dollar_proportion(location, df, radius, dollar_tier):\n",
    "    length = df.shape[0]\n",
    "    \n",
    "    indices = []\n",
    "    \n",
    "    for i in range(length): \n",
    "        coordinates = (float(df.loc[i, [\"latitude\"]]), float(df.loc[i, [\"longitude\"]]))\n",
    "        if d.distance(location, coordinates).miles <= radius: \n",
    "            indices.append(i)\n",
    "    \n",
    "    if len(indices) == 0: \n",
    "        proportion = 0\n",
    "    else: \n",
    "        surrounding_businesses = df.iloc[indices]\n",
    "        total_businesses = surrounding_businesses.shape[0]\n",
    "        proportion = (surrounding_businesses[surrounding_businesses[\"price\"] == dollar_tier].shape[0]/total_businesses)\n",
    "    \n",
    "    return proportion\n",
    "    "
   ]
  },
  {
   "cell_type": "code",
   "execution_count": 23,
   "metadata": {},
   "outputs": [],
   "source": [
    "# test gps values\n",
    "house = (47.679981, -122.290608)\n",
    "bread = (47.679656, -122.290546)\n",
    "house2 = (47.618432, -122.322973)"
   ]
  },
  {
   "cell_type": "code",
   "execution_count": 24,
   "metadata": {},
   "outputs": [
    {
     "data": {
      "text/plain": [
       "0.7421875"
      ]
     },
     "execution_count": 24,
     "metadata": {},
     "output_type": "execute_result"
    }
   ],
   "source": [
    "# test field: single data point\n",
    "radius_dollar_proportion(house2, yelp, 0.5, 2)"
   ]
  },
  {
   "cell_type": "code",
   "execution_count": 25,
   "metadata": {},
   "outputs": [],
   "source": [
    "# iterate over entire dataframe, populate with yelp metrics for each coordinate\n",
    "\n",
    "# this will take almost 5 hours to run over the whole dataframe -___-\n",
    "\n",
    "for i in range(gps_df.shape[0]): \n",
    "    for dollar in range(1, 5): \n",
    "        for radius in [0.5, 1.0]: \n",
    "            location = (float(gps_df.loc[i, [\"latitude\"]]), float(gps_df.loc[i, [\"longitude\"]]))\n",
    "            gps_df.loc[i, [f\"{radius}mi {dollar} dollar\"]] = radius_dollar_proportion(location, yelp, radius, dollar)"
   ]
  },
  {
   "cell_type": "code",
   "execution_count": 30,
   "metadata": {},
   "outputs": [],
   "source": [
    "# add data from seattle demographics dataset \n",
    "\n",
    "filler = [0 for i in range(gps_df.shape[0])]\n",
    "\n",
    "gps_df[\"median income\"] = filler \n",
    "gps_df[\"median rent\"] = filler\n",
    "gps_df[\"median home value\"] = filler"
   ]
  },
  {
   "cell_type": "code",
   "execution_count": 31,
   "metadata": {},
   "outputs": [
    {
     "data": {
      "text/html": [
       "<div>\n",
       "<style scoped>\n",
       "    .dataframe tbody tr th:only-of-type {\n",
       "        vertical-align: middle;\n",
       "    }\n",
       "\n",
       "    .dataframe tbody tr th {\n",
       "        vertical-align: top;\n",
       "    }\n",
       "\n",
       "    .dataframe thead th {\n",
       "        text-align: right;\n",
       "    }\n",
       "</style>\n",
       "<table border=\"1\" class=\"dataframe\">\n",
       "  <thead>\n",
       "    <tr style=\"text-align: right;\">\n",
       "      <th></th>\n",
       "      <th>index</th>\n",
       "      <th>latitude</th>\n",
       "      <th>longitude</th>\n",
       "      <th>neighborhood</th>\n",
       "      <th>0.5mi 1 dollar</th>\n",
       "      <th>1.0mi 1 dollar</th>\n",
       "      <th>0.5mi 2 dollar</th>\n",
       "      <th>1.0mi 2 dollar</th>\n",
       "      <th>0.5mi 3 dollar</th>\n",
       "      <th>1.0mi 3 dollar</th>\n",
       "      <th>0.5mi 4 dollar</th>\n",
       "      <th>1.0mi 4 dollar</th>\n",
       "      <th>median income</th>\n",
       "      <th>median rent</th>\n",
       "      <th>median home value</th>\n",
       "    </tr>\n",
       "  </thead>\n",
       "  <tbody>\n",
       "    <tr>\n",
       "      <td>0</td>\n",
       "      <td>0</td>\n",
       "      <td>47.698699</td>\n",
       "      <td>-122.359579</td>\n",
       "      <td>Greenwood/Phinney Ridge</td>\n",
       "      <td>0.500000</td>\n",
       "      <td>0.250000</td>\n",
       "      <td>0.500000</td>\n",
       "      <td>0.687500</td>\n",
       "      <td>0.00</td>\n",
       "      <td>0.062500</td>\n",
       "      <td>0.000000</td>\n",
       "      <td>0.000000</td>\n",
       "      <td>0</td>\n",
       "      <td>0</td>\n",
       "      <td>0</td>\n",
       "    </tr>\n",
       "    <tr>\n",
       "      <td>1</td>\n",
       "      <td>1</td>\n",
       "      <td>47.629000</td>\n",
       "      <td>-122.297010</td>\n",
       "      <td>Montlake/Portage Bay</td>\n",
       "      <td>0.000000</td>\n",
       "      <td>0.269231</td>\n",
       "      <td>0.750000</td>\n",
       "      <td>0.653846</td>\n",
       "      <td>0.25</td>\n",
       "      <td>0.076923</td>\n",
       "      <td>0.000000</td>\n",
       "      <td>0.000000</td>\n",
       "      <td>0</td>\n",
       "      <td>0</td>\n",
       "      <td>0</td>\n",
       "    </tr>\n",
       "    <tr>\n",
       "      <td>2</td>\n",
       "      <td>2</td>\n",
       "      <td>47.603136</td>\n",
       "      <td>-122.301123</td>\n",
       "      <td>Central Area/Squire Park</td>\n",
       "      <td>0.300000</td>\n",
       "      <td>0.352941</td>\n",
       "      <td>0.700000</td>\n",
       "      <td>0.588235</td>\n",
       "      <td>0.00</td>\n",
       "      <td>0.058824</td>\n",
       "      <td>0.000000</td>\n",
       "      <td>0.000000</td>\n",
       "      <td>0</td>\n",
       "      <td>0</td>\n",
       "      <td>0</td>\n",
       "    </tr>\n",
       "    <tr>\n",
       "      <td>3</td>\n",
       "      <td>4</td>\n",
       "      <td>47.627629</td>\n",
       "      <td>-122.317550</td>\n",
       "      <td>North Capitol Hill</td>\n",
       "      <td>0.258065</td>\n",
       "      <td>0.227941</td>\n",
       "      <td>0.709677</td>\n",
       "      <td>0.720588</td>\n",
       "      <td>0.00</td>\n",
       "      <td>0.029412</td>\n",
       "      <td>0.032258</td>\n",
       "      <td>0.022059</td>\n",
       "      <td>0</td>\n",
       "      <td>0</td>\n",
       "      <td>0</td>\n",
       "    </tr>\n",
       "    <tr>\n",
       "      <td>4</td>\n",
       "      <td>5</td>\n",
       "      <td>47.701419</td>\n",
       "      <td>-122.290185</td>\n",
       "      <td>Wedgwood/View Ridge</td>\n",
       "      <td>0.000000</td>\n",
       "      <td>0.666667</td>\n",
       "      <td>0.000000</td>\n",
       "      <td>0.333333</td>\n",
       "      <td>0.00</td>\n",
       "      <td>0.000000</td>\n",
       "      <td>0.000000</td>\n",
       "      <td>0.000000</td>\n",
       "      <td>0</td>\n",
       "      <td>0</td>\n",
       "      <td>0</td>\n",
       "    </tr>\n",
       "  </tbody>\n",
       "</table>\n",
       "</div>"
      ],
      "text/plain": [
       "   index   latitude   longitude              neighborhood  0.5mi 1 dollar  \\\n",
       "0      0  47.698699 -122.359579   Greenwood/Phinney Ridge        0.500000   \n",
       "1      1  47.629000 -122.297010      Montlake/Portage Bay        0.000000   \n",
       "2      2  47.603136 -122.301123  Central Area/Squire Park        0.300000   \n",
       "3      4  47.627629 -122.317550        North Capitol Hill        0.258065   \n",
       "4      5  47.701419 -122.290185       Wedgwood/View Ridge        0.000000   \n",
       "\n",
       "   1.0mi 1 dollar  0.5mi 2 dollar  1.0mi 2 dollar  0.5mi 3 dollar  \\\n",
       "0        0.250000        0.500000        0.687500            0.00   \n",
       "1        0.269231        0.750000        0.653846            0.25   \n",
       "2        0.352941        0.700000        0.588235            0.00   \n",
       "3        0.227941        0.709677        0.720588            0.00   \n",
       "4        0.666667        0.000000        0.333333            0.00   \n",
       "\n",
       "   1.0mi 3 dollar  0.5mi 4 dollar  1.0mi 4 dollar  median income  median rent  \\\n",
       "0        0.062500        0.000000        0.000000              0            0   \n",
       "1        0.076923        0.000000        0.000000              0            0   \n",
       "2        0.058824        0.000000        0.000000              0            0   \n",
       "3        0.029412        0.032258        0.022059              0            0   \n",
       "4        0.000000        0.000000        0.000000              0            0   \n",
       "\n",
       "   median home value  \n",
       "0                  0  \n",
       "1                  0  \n",
       "2                  0  \n",
       "3                  0  \n",
       "4                  0  "
      ]
     },
     "execution_count": 31,
     "metadata": {},
     "output_type": "execute_result"
    }
   ],
   "source": [
    "gps_df.head()\n"
   ]
  },
  {
   "cell_type": "code",
   "execution_count": 32,
   "metadata": {},
   "outputs": [
    {
     "data": {
      "text/html": [
       "<div>\n",
       "<style scoped>\n",
       "    .dataframe tbody tr th:only-of-type {\n",
       "        vertical-align: middle;\n",
       "    }\n",
       "\n",
       "    .dataframe tbody tr th {\n",
       "        vertical-align: top;\n",
       "    }\n",
       "\n",
       "    .dataframe thead th {\n",
       "        text-align: right;\n",
       "    }\n",
       "</style>\n",
       "<table border=\"1\" class=\"dataframe\">\n",
       "  <thead>\n",
       "    <tr style=\"text-align: right;\">\n",
       "      <th></th>\n",
       "      <th>neighborhood</th>\n",
       "      <th>median_rent</th>\n",
       "      <th>median_home_value</th>\n",
       "      <th>median_income</th>\n",
       "      <th>1 dollar</th>\n",
       "      <th>2 dollar</th>\n",
       "      <th>3 dollar</th>\n",
       "      <th>4 dollar</th>\n",
       "    </tr>\n",
       "  </thead>\n",
       "  <tbody>\n",
       "    <tr>\n",
       "      <td>0</td>\n",
       "      <td>Ballard</td>\n",
       "      <td>1542</td>\n",
       "      <td>543200</td>\n",
       "      <td>79162</td>\n",
       "      <td>0.229167</td>\n",
       "      <td>0.750000</td>\n",
       "      <td>0.020833</td>\n",
       "      <td>0.0</td>\n",
       "    </tr>\n",
       "    <tr>\n",
       "      <td>1</td>\n",
       "      <td>North Beach/Blue Ridge</td>\n",
       "      <td>1476</td>\n",
       "      <td>658600</td>\n",
       "      <td>94804</td>\n",
       "      <td>0.000000</td>\n",
       "      <td>1.000000</td>\n",
       "      <td>0.000000</td>\n",
       "      <td>0.0</td>\n",
       "    </tr>\n",
       "    <tr>\n",
       "      <td>2</td>\n",
       "      <td>Montlake/Portage Bay</td>\n",
       "      <td>1723</td>\n",
       "      <td>821250</td>\n",
       "      <td>132573</td>\n",
       "      <td>0.142857</td>\n",
       "      <td>0.714286</td>\n",
       "      <td>0.142857</td>\n",
       "      <td>0.0</td>\n",
       "    </tr>\n",
       "    <tr>\n",
       "      <td>3</td>\n",
       "      <td>Interbay</td>\n",
       "      <td>1490</td>\n",
       "      <td>571300</td>\n",
       "      <td>74679</td>\n",
       "      <td>0.400000</td>\n",
       "      <td>0.600000</td>\n",
       "      <td>0.000000</td>\n",
       "      <td>0.0</td>\n",
       "    </tr>\n",
       "    <tr>\n",
       "      <td>4</td>\n",
       "      <td>North Capitol Hill</td>\n",
       "      <td>1576</td>\n",
       "      <td>896200</td>\n",
       "      <td>96220</td>\n",
       "      <td>0.250000</td>\n",
       "      <td>0.750000</td>\n",
       "      <td>0.000000</td>\n",
       "      <td>0.0</td>\n",
       "    </tr>\n",
       "  </tbody>\n",
       "</table>\n",
       "</div>"
      ],
      "text/plain": [
       "             neighborhood  median_rent  median_home_value  median_income  \\\n",
       "0                 Ballard         1542             543200          79162   \n",
       "1  North Beach/Blue Ridge         1476             658600          94804   \n",
       "2    Montlake/Portage Bay         1723             821250         132573   \n",
       "3                Interbay         1490             571300          74679   \n",
       "4      North Capitol Hill         1576             896200          96220   \n",
       "\n",
       "   1 dollar  2 dollar  3 dollar  4 dollar  \n",
       "0  0.229167  0.750000  0.020833       0.0  \n",
       "1  0.000000  1.000000  0.000000       0.0  \n",
       "2  0.142857  0.714286  0.142857       0.0  \n",
       "3  0.400000  0.600000  0.000000       0.0  \n",
       "4  0.250000  0.750000  0.000000       0.0  "
      ]
     },
     "execution_count": 32,
     "metadata": {},
     "output_type": "execute_result"
    }
   ],
   "source": [
    "seattle_rent.head()"
   ]
  },
  {
   "cell_type": "code",
   "execution_count": 41,
   "metadata": {},
   "outputs": [
    {
     "name": "stderr",
     "output_type": "stream",
     "text": [
      "/opt/anaconda3/lib/python3.7/site-packages/ipykernel_launcher.py:4: FutureWarning: `item` has been deprecated and will be removed in a future version\n",
      "  after removing the cwd from sys.path.\n",
      "/opt/anaconda3/lib/python3.7/site-packages/ipykernel_launcher.py:5: FutureWarning: `item` has been deprecated and will be removed in a future version\n",
      "  \"\"\"\n",
      "/opt/anaconda3/lib/python3.7/site-packages/ipykernel_launcher.py:6: FutureWarning: `item` has been deprecated and will be removed in a future version\n",
      "  \n",
      "/opt/anaconda3/lib/python3.7/site-packages/ipykernel_launcher.py:7: FutureWarning: `item` has been deprecated and will be removed in a future version\n",
      "  import sys\n"
     ]
    }
   ],
   "source": [
    "# populate demographics columns\n",
    "\n",
    "for i in range(gps_df.shape[0]): \n",
    "    neighborhood = gps_df.loc[i, [\"neighborhood\"]].item()\n",
    "    income = seattle_rent[seattle_rent[\"neighborhood\"] == neighborhood][\"median_income\"].item()\n",
    "    rent = seattle_rent[seattle_rent[\"neighborhood\"] == neighborhood][\"median_rent\"].item()\n",
    "    home = seattle_rent[seattle_rent[\"neighborhood\"] == neighborhood][\"median_home_value\"].item()\n",
    "    \n",
    "    gps_df.loc[i, [\"median income\"]] = income\n",
    "    gps_df.loc[i, [\"median rent\"]] = rent\n",
    "    gps_df.loc[i, [\"median home value\"]] = home"
   ]
  },
  {
   "cell_type": "code",
   "execution_count": 43,
   "metadata": {},
   "outputs": [],
   "source": [
    "gps_df.to_csv(\"../datasets/generated_gps_price_radius.csv\", index = False)"
   ]
  }
 ],
 "metadata": {
  "kernelspec": {
   "display_name": "Python 3",
   "language": "python",
   "name": "python3"
  },
  "language_info": {
   "codemirror_mode": {
    "name": "ipython",
    "version": 3
   },
   "file_extension": ".py",
   "mimetype": "text/x-python",
   "name": "python",
   "nbconvert_exporter": "python",
   "pygments_lexer": "ipython3",
   "version": "3.7.4"
  }
 },
 "nbformat": 4,
 "nbformat_minor": 2
}
